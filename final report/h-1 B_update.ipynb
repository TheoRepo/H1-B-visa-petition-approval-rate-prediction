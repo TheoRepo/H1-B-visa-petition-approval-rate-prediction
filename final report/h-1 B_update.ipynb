{
 "cells": [
  {
   "cell_type": "markdown",
   "metadata": {},
   "source": [
    "## Project Flow"
   ]
  },
  {
   "cell_type": "markdown",
   "metadata": {},
   "source": [
    "### Step 1: Import everything at once for the complete project at a single instance"
   ]
  },
  {
   "cell_type": "code",
   "execution_count": 1,
   "metadata": {},
   "outputs": [],
   "source": [
    "##basic library - Pandas and Numpy\n",
    "import pandas as pd\n",
    "import numpy as np\n",
    "\n",
    "## Imports for Data Consistency - String Match\n",
    "import difflib as dff\n",
    "\n",
    "## Imports for different type of classfiers\n",
    "from sklearn import tree # <- Decision- Trees\n",
    "from sklearn import svm # <- Support Vector Machines\n",
    "import sklearn.linear_model as linear_model # <- Logisitic Regression - Sigmoid Function on the Linear Regression\n",
    "from sklearn.ensemble import RandomForestClassifier # <- Random Forest Classifier\n",
    "from sklearn.neural_network import MLPClassifier # <- Neural Networks\n",
    "from sklearn.naive_bayes import GaussianNB # <- Gaussian Naive-Bayes Classifier\n",
    "\n",
    "## Imports for recursive feature elimination\n",
    "from sklearn.feature_selection import RFE\n",
    "from sklearn.linear_model import LogisticRegression\n",
    "\n",
    "## Imports for splitting the data into training and test data\n",
    "from sklearn.model_selection import train_test_split\n",
    "\n",
    "## Imports for evaluating the different classifier models selected\n",
    "import sklearn.metrics as metrics\n",
    "from sklearn import preprocessing\n",
    "\n",
    "## Data Visualisation\n",
    "import matplotlib.pyplot as plt\n",
    "%matplotlib inline"
   ]
  },
  {
   "cell_type": "markdown",
   "metadata": {},
   "source": [
    "### Step 2: Import the data and load it into a pandas dataframe for further cleaning and Analysis"
   ]
  },
  {
   "cell_type": "code",
   "execution_count": 2,
   "metadata": {},
   "outputs": [],
   "source": [
    "## Input the data's absolute/relative path from the user\n",
    "path_excel = \"h1b_kaggle.csv\"   \n",
    "#/Users/yutian/Desktop/h-1b/h1b_kaggle.csv"
   ]
  },
  {
   "cell_type": "code",
   "execution_count": 3,
   "metadata": {},
   "outputs": [],
   "source": [
    "## Define the column names and read the data file into a pandas dataframe\n",
    "column_names = ['CASE_STATUS', 'EMPLOYER_NAME','SOC_NAME', 'JOB_TITLE', 'FULL_TIME_POSITION', 'PREVAILING_WAGE', 'FILING_YEAR',\\\n",
    "               'WORKSITE', 'LONGITUDE', 'LATITUDE']\n",
    "table_1 = pd.read_table(path_excel, names = column_names, skiprows = 1, error_bad_lines = False, sep = ',')"
   ]
  },
  {
   "cell_type": "code",
   "execution_count": 4,
   "metadata": {},
   "outputs": [],
   "source": [
    "pd.set_option('display.max_colwidth', -1)\n",
    "pd.options.mode.chained_assignment = None"
   ]
  },
  {
   "cell_type": "code",
   "execution_count": 5,
   "metadata": {},
   "outputs": [
    {
     "data": {
      "text/html": [
       "<div>\n",
       "<style scoped>\n",
       "    .dataframe tbody tr th:only-of-type {\n",
       "        vertical-align: middle;\n",
       "    }\n",
       "\n",
       "    .dataframe tbody tr th {\n",
       "        vertical-align: top;\n",
       "    }\n",
       "\n",
       "    .dataframe thead th {\n",
       "        text-align: right;\n",
       "    }\n",
       "</style>\n",
       "<table border=\"1\" class=\"dataframe\">\n",
       "  <thead>\n",
       "    <tr style=\"text-align: right;\">\n",
       "      <th></th>\n",
       "      <th>CASE_STATUS</th>\n",
       "      <th>EMPLOYER_NAME</th>\n",
       "      <th>SOC_NAME</th>\n",
       "      <th>JOB_TITLE</th>\n",
       "      <th>FULL_TIME_POSITION</th>\n",
       "      <th>PREVAILING_WAGE</th>\n",
       "      <th>FILING_YEAR</th>\n",
       "      <th>WORKSITE</th>\n",
       "      <th>LONGITUDE</th>\n",
       "      <th>LATITUDE</th>\n",
       "    </tr>\n",
       "  </thead>\n",
       "  <tbody>\n",
       "    <tr>\n",
       "      <th>1</th>\n",
       "      <td>CERTIFIED-WITHDRAWN</td>\n",
       "      <td>UNIVERSITY OF MICHIGAN</td>\n",
       "      <td>BIOCHEMISTS AND BIOPHYSICISTS</td>\n",
       "      <td>POSTDOCTORAL RESEARCH FELLOW</td>\n",
       "      <td>N</td>\n",
       "      <td>36067.0</td>\n",
       "      <td>2016.0</td>\n",
       "      <td>ANN ARBOR, MICHIGAN</td>\n",
       "      <td>-83.743038</td>\n",
       "      <td>42.280826</td>\n",
       "    </tr>\n",
       "    <tr>\n",
       "      <th>2</th>\n",
       "      <td>CERTIFIED-WITHDRAWN</td>\n",
       "      <td>GOODMAN NETWORKS, INC.</td>\n",
       "      <td>CHIEF EXECUTIVES</td>\n",
       "      <td>CHIEF OPERATING OFFICER</td>\n",
       "      <td>Y</td>\n",
       "      <td>242674.0</td>\n",
       "      <td>2016.0</td>\n",
       "      <td>PLANO, TEXAS</td>\n",
       "      <td>-96.698886</td>\n",
       "      <td>33.019843</td>\n",
       "    </tr>\n",
       "    <tr>\n",
       "      <th>3</th>\n",
       "      <td>CERTIFIED-WITHDRAWN</td>\n",
       "      <td>PORTS AMERICA GROUP, INC.</td>\n",
       "      <td>CHIEF EXECUTIVES</td>\n",
       "      <td>CHIEF PROCESS OFFICER</td>\n",
       "      <td>Y</td>\n",
       "      <td>193066.0</td>\n",
       "      <td>2016.0</td>\n",
       "      <td>JERSEY CITY, NEW JERSEY</td>\n",
       "      <td>-74.077642</td>\n",
       "      <td>40.728158</td>\n",
       "    </tr>\n",
       "    <tr>\n",
       "      <th>4</th>\n",
       "      <td>CERTIFIED-WITHDRAWN</td>\n",
       "      <td>GATES CORPORATION, A WHOLLY-OWNED SUBSIDIARY OF TOMKINS PLC</td>\n",
       "      <td>CHIEF EXECUTIVES</td>\n",
       "      <td>REGIONAL PRESIDEN, AMERICAS</td>\n",
       "      <td>Y</td>\n",
       "      <td>220314.0</td>\n",
       "      <td>2016.0</td>\n",
       "      <td>DENVER, COLORADO</td>\n",
       "      <td>-104.990251</td>\n",
       "      <td>39.739236</td>\n",
       "    </tr>\n",
       "    <tr>\n",
       "      <th>5</th>\n",
       "      <td>WITHDRAWN</td>\n",
       "      <td>PEABODY INVESTMENTS CORP.</td>\n",
       "      <td>CHIEF EXECUTIVES</td>\n",
       "      <td>PRESIDENT MONGOLIA AND INDIA</td>\n",
       "      <td>Y</td>\n",
       "      <td>157518.4</td>\n",
       "      <td>2016.0</td>\n",
       "      <td>ST. LOUIS, MISSOURI</td>\n",
       "      <td>-90.199404</td>\n",
       "      <td>38.627003</td>\n",
       "    </tr>\n",
       "  </tbody>\n",
       "</table>\n",
       "</div>"
      ],
      "text/plain": [
       "           CASE_STATUS  \\\n",
       "1  CERTIFIED-WITHDRAWN   \n",
       "2  CERTIFIED-WITHDRAWN   \n",
       "3  CERTIFIED-WITHDRAWN   \n",
       "4  CERTIFIED-WITHDRAWN   \n",
       "5  WITHDRAWN             \n",
       "\n",
       "                                                 EMPLOYER_NAME  \\\n",
       "1  UNIVERSITY OF MICHIGAN                                        \n",
       "2  GOODMAN NETWORKS, INC.                                        \n",
       "3  PORTS AMERICA GROUP, INC.                                     \n",
       "4  GATES CORPORATION, A WHOLLY-OWNED SUBSIDIARY OF TOMKINS PLC   \n",
       "5  PEABODY INVESTMENTS CORP.                                     \n",
       "\n",
       "                        SOC_NAME                     JOB_TITLE  \\\n",
       "1  BIOCHEMISTS AND BIOPHYSICISTS  POSTDOCTORAL RESEARCH FELLOW   \n",
       "2  CHIEF EXECUTIVES               CHIEF OPERATING OFFICER        \n",
       "3  CHIEF EXECUTIVES               CHIEF PROCESS OFFICER          \n",
       "4  CHIEF EXECUTIVES               REGIONAL PRESIDEN, AMERICAS    \n",
       "5  CHIEF EXECUTIVES               PRESIDENT MONGOLIA AND INDIA   \n",
       "\n",
       "  FULL_TIME_POSITION  PREVAILING_WAGE  FILING_YEAR                 WORKSITE  \\\n",
       "1  N                  36067.0          2016.0       ANN ARBOR, MICHIGAN       \n",
       "2  Y                  242674.0         2016.0       PLANO, TEXAS              \n",
       "3  Y                  193066.0         2016.0       JERSEY CITY, NEW JERSEY   \n",
       "4  Y                  220314.0         2016.0       DENVER, COLORADO          \n",
       "5  Y                  157518.4         2016.0       ST. LOUIS, MISSOURI       \n",
       "\n",
       "    LONGITUDE   LATITUDE  \n",
       "1 -83.743038   42.280826  \n",
       "2 -96.698886   33.019843  \n",
       "3 -74.077642   40.728158  \n",
       "4 -104.990251  39.739236  \n",
       "5 -90.199404   38.627003  "
      ]
     },
     "execution_count": 5,
     "metadata": {},
     "output_type": "execute_result"
    }
   ],
   "source": [
    "table_1.head()"
   ]
  },
  {
   "cell_type": "markdown",
   "metadata": {},
   "source": [
    "## Data Analysis and Preprocessing"
   ]
  },
  {
   "cell_type": "markdown",
   "metadata": {},
   "source": [
    "### Case Status v/s Number of Petitions of the visa petition - Data Analysis1"
   ]
  },
  {
   "cell_type": "code",
   "execution_count": 6,
   "metadata": {},
   "outputs": [
    {
     "data": {
      "image/png": "[encoded data removed]",
      "text/plain": [
       "<Figure size 432x288 with 1 Axes>"
      ]
     },
     "metadata": {
      "needs_background": "light"
     },
     "output_type": "display_data"
    },
    {
     "name": "stdout",
     "output_type": "stream",
     "text": [
      "CERTIFIED                                             2615623\n",
      "CERTIFIED-WITHDRAWN                                   202659 \n",
      "DENIED                                                94346  \n",
      "WITHDRAWN                                             89799  \n",
      "PENDING QUALITY AND COMPLIANCE REVIEW - UNASSIGNED    15     \n",
      "REJECTED                                              2      \n",
      "INVALIDATED                                           1      \n",
      "Name: CASE_STATUS, dtype: int64\n"
     ]
    }
   ],
   "source": [
    "plot_status_numberinit = table_1['CASE_STATUS'].value_counts().plot(title = 'CASE STATUS vs NUMBER OF PETITIONS', \\\n",
    "                                                                kind = 'barh', color = 'blue')\n",
    "plot_status_numberinit.set_xlabel(\"CASE STATUS\")\n",
    "plot_status_numberinit.set_ylabel(\"NUMBER OF PETITIONS\")\n",
    "plt.show()\n",
    "print(table_1['CASE_STATUS'].value_counts())"
   ]
  },
  {
   "cell_type": "code",
   "execution_count": 7,
   "metadata": {},
   "outputs": [],
   "source": [
    "table_2 = table_1.loc[table_1['CASE_STATUS'].isin([\"CERTIFIED\", \"DENIED\", \"REJECTED\"])]"
   ]
  },
  {
   "cell_type": "code",
   "execution_count": 8,
   "metadata": {},
   "outputs": [],
   "source": [
    "table_2['FILING_YEAR'] = table_2['FILING_YEAR'].astype(int)\n",
    "table_2['EMPLOYER_NAME'] = table_2['EMPLOYER_NAME'].str.upper()\n",
    "table_2['SOC_NAME'] = table_2['SOC_NAME'].str.upper()\n",
    "table_2['JOB_TITLE'] = table_2['JOB_TITLE'].str.upper()\n",
    "table_2['FULL_TIME_POSITION'] = table_2['FULL_TIME_POSITION'].str.upper()#datatype conversion for the year column"
   ]
  },
  {
   "cell_type": "code",
   "execution_count": 9,
   "metadata": {},
   "outputs": [
    {
     "data": {
      "text/html": [
       "<div>\n",
       "<style scoped>\n",
       "    .dataframe tbody tr th:only-of-type {\n",
       "        vertical-align: middle;\n",
       "    }\n",
       "\n",
       "    .dataframe tbody tr th {\n",
       "        vertical-align: top;\n",
       "    }\n",
       "\n",
       "    .dataframe thead th {\n",
       "        text-align: right;\n",
       "    }\n",
       "</style>\n",
       "<table border=\"1\" class=\"dataframe\">\n",
       "  <thead>\n",
       "    <tr style=\"text-align: right;\">\n",
       "      <th></th>\n",
       "      <th>CASE_STATUS</th>\n",
       "      <th>EMPLOYER_NAME</th>\n",
       "      <th>SOC_NAME</th>\n",
       "      <th>JOB_TITLE</th>\n",
       "      <th>FULL_TIME_POSITION</th>\n",
       "      <th>PREVAILING_WAGE</th>\n",
       "      <th>FILING_YEAR</th>\n",
       "      <th>WORKSITE</th>\n",
       "      <th>LONGITUDE</th>\n",
       "      <th>LATITUDE</th>\n",
       "    </tr>\n",
       "  </thead>\n",
       "  <tbody>\n",
       "    <tr>\n",
       "      <th>19</th>\n",
       "      <td>CERTIFIED</td>\n",
       "      <td>QUICKLOGIX LLC</td>\n",
       "      <td>CHIEF EXECUTIVES</td>\n",
       "      <td>CEO</td>\n",
       "      <td>Y</td>\n",
       "      <td>187200.0</td>\n",
       "      <td>2016</td>\n",
       "      <td>SANTA CLARA, CALIFORNIA</td>\n",
       "      <td>-121.955236</td>\n",
       "      <td>37.354108</td>\n",
       "    </tr>\n",
       "    <tr>\n",
       "      <th>20</th>\n",
       "      <td>CERTIFIED</td>\n",
       "      <td>MCCHRYSTAL GROUP, LLC</td>\n",
       "      <td>CHIEF EXECUTIVES</td>\n",
       "      <td>PRESIDENT, NORTHEAST REGION</td>\n",
       "      <td>Y</td>\n",
       "      <td>241842.0</td>\n",
       "      <td>2016</td>\n",
       "      <td>ALEXANDRIA, VIRGINIA</td>\n",
       "      <td>-77.046921</td>\n",
       "      <td>38.804835</td>\n",
       "    </tr>\n",
       "    <tr>\n",
       "      <th>23</th>\n",
       "      <td>CERTIFIED</td>\n",
       "      <td>LOMICS, LLC</td>\n",
       "      <td>CHIEF EXECUTIVES</td>\n",
       "      <td>CEO</td>\n",
       "      <td>Y</td>\n",
       "      <td>99986.0</td>\n",
       "      <td>2016</td>\n",
       "      <td>SAN DIEGO, CALIFORNIA</td>\n",
       "      <td>-117.161084</td>\n",
       "      <td>32.715738</td>\n",
       "    </tr>\n",
       "    <tr>\n",
       "      <th>24</th>\n",
       "      <td>CERTIFIED</td>\n",
       "      <td>UC UNIVERSITY HIGH SCHOOL EDUCATION INC.</td>\n",
       "      <td>CHIEF EXECUTIVES</td>\n",
       "      <td>CHIEF FINANCIAL OFFICER</td>\n",
       "      <td>Y</td>\n",
       "      <td>99986.0</td>\n",
       "      <td>2016</td>\n",
       "      <td>CHULA VISTA, CALIFORNIA</td>\n",
       "      <td>-117.084196</td>\n",
       "      <td>32.640054</td>\n",
       "    </tr>\n",
       "    <tr>\n",
       "      <th>26</th>\n",
       "      <td>CERTIFIED</td>\n",
       "      <td>QUICKLOGIX, INC.</td>\n",
       "      <td>CHIEF EXECUTIVES</td>\n",
       "      <td>CEO</td>\n",
       "      <td>Y</td>\n",
       "      <td>187200.0</td>\n",
       "      <td>2016</td>\n",
       "      <td>SANTA CLARA, CALIFORNIA</td>\n",
       "      <td>-121.955236</td>\n",
       "      <td>37.354108</td>\n",
       "    </tr>\n",
       "  </tbody>\n",
       "</table>\n",
       "</div>"
      ],
      "text/plain": [
       "   CASE_STATUS                             EMPLOYER_NAME          SOC_NAME  \\\n",
       "19  CERTIFIED   QUICKLOGIX LLC                            CHIEF EXECUTIVES   \n",
       "20  CERTIFIED   MCCHRYSTAL GROUP, LLC                     CHIEF EXECUTIVES   \n",
       "23  CERTIFIED   LOMICS, LLC                               CHIEF EXECUTIVES   \n",
       "24  CERTIFIED   UC UNIVERSITY HIGH SCHOOL EDUCATION INC.  CHIEF EXECUTIVES   \n",
       "26  CERTIFIED   QUICKLOGIX, INC.                          CHIEF EXECUTIVES   \n",
       "\n",
       "                      JOB_TITLE FULL_TIME_POSITION  PREVAILING_WAGE  \\\n",
       "19  CEO                          Y                  187200.0          \n",
       "20  PRESIDENT, NORTHEAST REGION  Y                  241842.0          \n",
       "23  CEO                          Y                  99986.0           \n",
       "24  CHIEF FINANCIAL OFFICER      Y                  99986.0           \n",
       "26  CEO                          Y                  187200.0          \n",
       "\n",
       "    FILING_YEAR                 WORKSITE   LONGITUDE   LATITUDE  \n",
       "19  2016         SANTA CLARA, CALIFORNIA -121.955236  37.354108  \n",
       "20  2016         ALEXANDRIA, VIRGINIA    -77.046921   38.804835  \n",
       "23  2016         SAN DIEGO, CALIFORNIA   -117.161084  32.715738  \n",
       "24  2016         CHULA VISTA, CALIFORNIA -117.084196  32.640054  \n",
       "26  2016         SANTA CLARA, CALIFORNIA -121.955236  37.354108  "
      ]
     },
     "execution_count": 9,
     "metadata": {},
     "output_type": "execute_result"
    }
   ],
   "source": [
    "table_2.head()"
   ]
  },
  {
   "cell_type": "markdown",
   "metadata": {},
   "source": [
    "### Row Counts v/s Case Status of the visa petition - Data Analysis1"
   ]
  },
  {
   "cell_type": "code",
   "execution_count": 10,
   "metadata": {},
   "outputs": [
    {
     "data": {
      "text/plain": [
       "<matplotlib.axes._subplots.AxesSubplot at 0x1109cf7d0>"
      ]
     },
     "execution_count": 10,
     "metadata": {},
     "output_type": "execute_result"
    },
    {
     "data": {
      "image/png": "[encoded data removed]",
      "text/plain": [
       "<Figure size 432x288 with 1 Axes>"
      ]
     },
     "metadata": {
      "needs_background": "light"
     },
     "output_type": "display_data"
    }
   ],
   "source": [
    "plot_status_number = table_2['CASE_STATUS'].value_counts().plot(title = 'CASE STATUS vs NUMBER OF PETITIONS', \\\n",
    "                                                                kind = 'bar', color = 'green')\n",
    "plot_status_number.set_xlabel(\"CASE STATUS\")\n",
    "plot_status_number.set_ylabel(\"NUMBER OF PETITIONS\")\n",
    "for p in plot_status_number.patches:\n",
    "    plot_status_number.annotate(str(p.get_height()), (p.get_x() * 1.0050, p.get_height() * 1.005))\n",
    "plot_status_number"
   ]
  },
  {
   "cell_type": "markdown",
   "metadata": {},
   "source": [
    "### The top 15 employers filing the H1-B visa petitions - Data Analysis2"
   ]
  },
  {
   "cell_type": "code",
   "execution_count": 11,
   "metadata": {},
   "outputs": [
    {
     "name": "stdout",
     "output_type": "stream",
     "text": [
      "INFOSYS LIMITED                                    130241\n",
      "TATA CONSULTANCY SERVICES LIMITED                  64358 \n",
      "WIPRO LIMITED                                      43679 \n",
      "DELOITTE CONSULTING LLP                            36667 \n",
      "ACCENTURE LLP                                      32983 \n",
      "IBM INDIA PRIVATE LIMITED                          28166 \n",
      "MICROSOFT CORPORATION                              22373 \n",
      "HCL AMERICA, INC.                                  22330 \n",
      "ERNST & YOUNG U.S. LLP                             18217 \n",
      "LARSEN & TOUBRO INFOTECH LIMITED                   16724 \n",
      "CAPGEMINI AMERICA INC                              16032 \n",
      "COGNIZANT TECHNOLOGY SOLUTIONS U.S. CORPORATION    15448 \n",
      "GOOGLE INC.                                        12545 \n",
      "IGATE TECHNOLOGIES INC.                            12196 \n",
      "IBM CORPORATION                                    10690 \n",
      "Name: EMPLOYER_NAME, dtype: int64\n"
     ]
    },
    {
     "data": {
      "image/png": "[encoded data removed]",
      "text/plain": [
       "<Figure size 504x360 with 1 Axes>"
      ]
     },
     "metadata": {
      "needs_background": "light"
     },
     "output_type": "display_data"
    }
   ],
   "source": [
    "plot_status_topemp= table_2['EMPLOYER_NAME'].value_counts().head(15).plot.barh(title = \"Top 15 employers filing the petitions\", \\\n",
    "                                                                 color = 'green', figsize = (7, 5))\n",
    "plot_status_topemp.set_ylabel(\"NAME OF THE EMPLOYER\")\n",
    "plot_status_topemp.set_xlabel(\"NUMBER OF PETITIONS\")\n",
    "plot_status_topemp\n",
    "print(table_2['EMPLOYER_NAME'].value_counts().head(15))"
   ]
  },
  {
   "cell_type": "markdown",
   "metadata": {},
   "source": [
    "### The top 15 SOC names for which H1-B visas are raised - Data Analysis3"
   ]
  },
  {
   "cell_type": "code",
   "execution_count": 12,
   "metadata": {},
   "outputs": [
    {
     "name": "stdout",
     "output_type": "stream",
     "text": [
      "COMPUTER SYSTEMS ANALYSTS                             469300\n",
      "SOFTWARE DEVELOPERS, APPLICATIONS                     372125\n",
      "COMPUTER PROGRAMMERS                                  360575\n",
      "COMPUTER OCCUPATIONS, ALL OTHER                       164659\n",
      "SOFTWARE DEVELOPERS, SYSTEMS SOFTWARE                 75806 \n",
      "MANAGEMENT ANALYSTS                                   62096 \n",
      "ACCOUNTANTS AND AUDITORS                              49780 \n",
      "FINANCIAL ANALYSTS                                    46730 \n",
      "MECHANICAL ENGINEERS                                  39844 \n",
      "NETWORK AND COMPUTER SYSTEMS ADMINISTRATORS           36219 \n",
      "DATABASE ADMINISTRATORS                               35303 \n",
      "MARKET RESEARCH ANALYSTS AND MARKETING SPECIALISTS    34433 \n",
      "ELECTRONICS ENGINEERS, EXCEPT COMPUTER                31782 \n",
      "PHYSICIANS AND SURGEONS, ALL OTHER                    30641 \n",
      "OPERATIONS RESEARCH ANALYSTS                          30328 \n",
      "Name: SOC_NAME, dtype: int64\n"
     ]
    },
    {
     "data": {
      "image/png": "[encoded data removed]",
      "text/plain": [
       "<Figure size 504x360 with 1 Axes>"
      ]
     },
     "metadata": {
      "needs_background": "light"
     },
     "output_type": "display_data"
    }
   ],
   "source": [
    "plot_status_topsoc= table_2['SOC_NAME'].value_counts().head(15).plot.barh(title = \"Top 15 in demand positions SOCs\", \\\n",
    "                                                                 color = 'green', figsize = (7, 5))\n",
    "plot_status_topsoc.set_ylabel(\"SOC NAME\")\n",
    "plot_status_topsoc.set_xlabel(\"NUMBER OF PETITIONS\")\n",
    "plot_status_topsoc\n",
    "print(table_2['SOC_NAME'].value_counts().head(15))"
   ]
  },
  {
   "cell_type": "markdown",
   "metadata": {},
   "source": [
    "### Acceptance rate of the H1-B Visa petitions through different years - Data Analysis4"
   ]
  },
  {
   "cell_type": "code",
   "execution_count": 13,
   "metadata": {},
   "outputs": [
    {
     "data": {
      "image/png": "[encoded data removed]",
      "text/plain": [
       "<Figure size 432x288 with 1 Axes>"
      ]
     },
     "metadata": {
      "needs_background": "light"
     },
     "output_type": "display_data"
    },
    {
     "data": {
      "image/png": "[encoded data removed]",
      "text/plain": [
       "<Figure size 432x288 with 1 Axes>"
      ]
     },
     "metadata": {
      "needs_background": "light"
     },
     "output_type": "display_data"
    }
   ],
   "source": [
    "dfplot_status_fyear = pd.DataFrame(table_2['FILING_YEAR'].value_counts())\n",
    "# pandas.series.value_counts\n",
    "# https://pandas.pydata.org/pandas-docs/stable/reference/api/pandas.Series.value_counts.html?highlight=value_counts#pandas.Series.value_counts\n",
    "dfplot_status_fyear = dfplot_status_fyear.sort_values(['FILING_YEAR'])\n",
    "plot_status_fyear = dfplot_status_fyear.plot(title = 'H1-B Petitions per year', kind = 'line')\n",
    "plot_status_fyear.set_xlabel('FILING YEAR')\n",
    "plot_status_fyear.set_ylabel('NUMBER OF PETITIONS')\n",
    "plt.show()\n",
    "\n",
    "dfstatus_acceptance_peryear = pd.DataFrame(table_2[table_2['CASE_STATUS'] == 'CERTIFIED'].FILING_YEAR.value_counts() / table_2.FILING_YEAR.value_counts())\n",
    "dfstatus_acceptance_peryear = dfstatus_acceptance_peryear.sort_values(['FILING_YEAR'])\n",
    "status_acceptance_peryear = dfstatus_acceptance_peryear.plot(title = 'H1-B Petitions acceptance per year', kind = 'line')\n",
    "status_acceptance_peryear.set_xlabel('FILING YEAR')\n",
    "status_acceptance_peryear.set_ylabel('ACCEPTANCE RATIO')\n",
    "plt.show()"
   ]
  },
  {
   "cell_type": "markdown",
   "metadata": {},
   "source": [
    "### Salaries trend per year - Data Analysis5"
   ]
  },
  {
   "cell_type": "code",
   "execution_count": 14,
   "metadata": {},
   "outputs": [
    {
     "data": {
      "image/png": "[encoded data removed]",
      "text/plain": [
       "<Figure size 432x288 with 1 Axes>"
      ]
     },
     "metadata": {
      "needs_background": "light"
     },
     "output_type": "display_data"
    },
    {
     "data": {
      "text/html": [
       "<div>\n",
       "<style scoped>\n",
       "    .dataframe tbody tr th:only-of-type {\n",
       "        vertical-align: middle;\n",
       "    }\n",
       "\n",
       "    .dataframe tbody tr th {\n",
       "        vertical-align: top;\n",
       "    }\n",
       "\n",
       "    .dataframe thead tr th {\n",
       "        text-align: left;\n",
       "    }\n",
       "\n",
       "    .dataframe thead tr:last-of-type th {\n",
       "        text-align: right;\n",
       "    }\n",
       "</style>\n",
       "<table border=\"1\" class=\"dataframe\">\n",
       "  <thead>\n",
       "    <tr>\n",
       "      <th></th>\n",
       "      <th>PREVAILING_WAGE</th>\n",
       "    </tr>\n",
       "    <tr>\n",
       "      <th></th>\n",
       "      <th>median</th>\n",
       "    </tr>\n",
       "    <tr>\n",
       "      <th>FILING_YEAR</th>\n",
       "      <th></th>\n",
       "    </tr>\n",
       "  </thead>\n",
       "  <tbody>\n",
       "    <tr>\n",
       "      <th>2011</th>\n",
       "      <td>60882.0</td>\n",
       "    </tr>\n",
       "    <tr>\n",
       "      <th>2012</th>\n",
       "      <td>62462.0</td>\n",
       "    </tr>\n",
       "    <tr>\n",
       "      <th>2013</th>\n",
       "      <td>63939.0</td>\n",
       "    </tr>\n",
       "    <tr>\n",
       "      <th>2014</th>\n",
       "      <td>64958.0</td>\n",
       "    </tr>\n",
       "    <tr>\n",
       "      <th>2015</th>\n",
       "      <td>66394.0</td>\n",
       "    </tr>\n",
       "    <tr>\n",
       "      <th>2016</th>\n",
       "      <td>68411.0</td>\n",
       "    </tr>\n",
       "  </tbody>\n",
       "</table>\n",
       "</div>"
      ],
      "text/plain": [
       "            PREVAILING_WAGE\n",
       "                     median\n",
       "FILING_YEAR                \n",
       "2011         60882.0       \n",
       "2012         62462.0       \n",
       "2013         63939.0       \n",
       "2014         64958.0       \n",
       "2015         66394.0       \n",
       "2016         68411.0       "
      ]
     },
     "execution_count": 14,
     "metadata": {},
     "output_type": "execute_result"
    }
   ],
   "source": [
    "dfsalaries_trends_year = table_2.loc[:,['PREVAILING_WAGE', 'FILING_YEAR']].groupby(['FILING_YEAR']).agg(['median'])\n",
    "\n",
    "plot_salaries_trends_year = dfsalaries_trends_year.plot(kind = 'bar', color = 'g', legend = None)\n",
    "plot_salaries_trends_year.set_xlabel('FILING YEAR')\n",
    "plot_salaries_trends_year.set_ylabel('MEDIAN WAGE')\n",
    "plt.show()\n",
    "dfsalaries_trends_year"
   ]
  },
  {
   "cell_type": "markdown",
   "metadata": {},
   "source": [
    "### Step 3: Filter the rows and keep the ones with case status as 'CERTIFIED' or 'DECLINED'¶"
   ]
  },
  {
   "cell_type": "code",
   "execution_count": 15,
   "metadata": {},
   "outputs": [
    {
     "name": "stdout",
     "output_type": "stream",
     "text": [
      "['CERTIFIED' 'DENIED' 'REJECTED']\n"
     ]
    }
   ],
   "source": [
    "print(table_2['CASE_STATUS'].unique())\n",
    "table_2 = table_2.loc[table_2['CASE_STATUS'].isin([\"CERTIFIED\", \"DENIED\"])] #filtering"
   ]
  },
  {
   "cell_type": "markdown",
   "metadata": {},
   "source": [
    "### Step 4: Remove rows with null values for EMPLOYER_NAME, SOC_NAME, JOB_TITLE, FULL_TIME_POSITION, PREVAILING_WAGE"
   ]
  },
  {
   "cell_type": "code",
   "execution_count": 16,
   "metadata": {},
   "outputs": [
    {
     "data": {
      "text/plain": [
       "CASE_STATUS           0    \n",
       "EMPLOYER_NAME         18   \n",
       "SOC_NAME              15893\n",
       "JOB_TITLE             10   \n",
       "FULL_TIME_POSITION    1    \n",
       "PREVAILING_WAGE       53   \n",
       "FILING_YEAR           0    \n",
       "WORKSITE              0    \n",
       "LONGITUDE             97071\n",
       "LATITUDE              97071\n",
       "dtype: int64"
      ]
     },
     "execution_count": 16,
     "metadata": {},
     "output_type": "execute_result"
    }
   ],
   "source": [
    "table_2.isnull().sum(axis = 0)\n",
    "# pandas.DataFrame.isnull()\n",
    "# https://pandas.pydata.org/pandas-docs/stable/reference/api/pandas.DataFrame.isnull.html?highlight=isnull#pandas.DataFrame.isnull\n",
    "# pandas.Dataframe.sum\n",
    "# https://pandas.pydata.org/pandas-docs/stable/reference/api/pandas.DataFrame.sum.html?highlight=sum#pandas.DataFrame.sum"
   ]
  },
  {
   "cell_type": "code",
   "execution_count": 17,
   "metadata": {},
   "outputs": [],
   "source": [
    "table_3 = table_2.dropna(axis=0, how='any', subset = ['EMPLOYER_NAME', 'SOC_NAME', 'JOB_TITLE', \n",
    "                                                      'FULL_TIME_POSITION', 'PREVAILING_WAGE'])\n",
    "# pandas.DataFrame.dropna()\n",
    "# https://pandas.pydata.org/pandas-docs/stable/reference/api/pandas.DataFrame.dropna.html?highlight=dropna#pandas.DataFrame.dropna"
   ]
  },
  {
   "cell_type": "markdown",
   "metadata": {},
   "source": [
    "### Step 5: Find the number of certified and denied of all the needed columns with their count"
   ]
  },
  {
   "cell_type": "code",
   "execution_count": 18,
   "metadata": {},
   "outputs": [
    {
     "name": "stdout",
     "output_type": "stream",
     "text": [
      "(2709969, 10)\n",
      "(2694002, 10)\n"
     ]
    }
   ],
   "source": [
    "print(table_2.shape)\n",
    "print(table_3.shape)"
   ]
  },
  {
   "cell_type": "code",
   "execution_count": 19,
   "metadata": {},
   "outputs": [
    {
     "data": {
      "text/plain": [
       "CERTIFIED    2600241\n",
       "DENIED       93761  \n",
       "Name: CASE_STATUS, dtype: int64"
      ]
     },
     "execution_count": 19,
     "metadata": {},
     "output_type": "execute_result"
    }
   ],
   "source": [
    "table_3.CASE_STATUS.value_counts()"
   ]
  },
  {
   "cell_type": "markdown",
   "metadata": {},
   "source": [
    "### Step 6: Undersampling the Data to match the ratio of certified and denied samples"
   ]
  },
  {
   "cell_type": "code",
   "execution_count": 20,
   "metadata": {},
   "outputs": [],
   "source": [
    "table_temp_2_Dx = table_3[table_3['CASE_STATUS'] == 'DENIED']\n",
    "#table_temp_2_Dx.duplicated(features_for_dup_removal).value_counts()"
   ]
  },
  {
   "cell_type": "code",
   "execution_count": 21,
   "metadata": {},
   "outputs": [],
   "source": [
    "table_temp_2_Cx = table_3[table_3['CASE_STATUS'] == 'CERTIFIED']\n",
    "#table_temp_2_Cx.duplicated(features_for_dup_removal).value_counts()"
   ]
  },
  {
   "cell_type": "code",
   "execution_count": 22,
   "metadata": {},
   "outputs": [],
   "source": [
    "Input_Certified, Input_Certified_extra, y_certified, y_certified_extra = train_test_split(table_3[table_3.CASE_STATUS == 'CERTIFIED'],\\\n",
    "                                                                                          table_temp_2_Cx.CASE_STATUS, train_size= 0.06, random_state=1)\n",
    "\n",
    "#Input_Certified is the needed x axis data\n",
    "#Input_certified_extra is the eliminitated attributes data\n",
    "#Same applied for the Y axis but as the values are \"Certified\" throughout, it doesn't matter\n",
    "\n",
    "# train_test_split\n",
    "# https://scikit-learn.org/stable/modules/generated/sklearn.model_selection.train_test_split.html"
   ]
  },
  {
   "cell_type": "code",
   "execution_count": 23,
   "metadata": {},
   "outputs": [],
   "source": [
    "training_dataframe = Input_Certified.append(table_temp_2_Dx)"
   ]
  },
  {
   "cell_type": "code",
   "execution_count": 24,
   "metadata": {},
   "outputs": [
    {
     "data": {
      "image/png": "[encoded data removed]",
      "text/plain": [
       "<Figure size 432x288 with 1 Axes>"
      ]
     },
     "metadata": {
      "needs_background": "light"
     },
     "output_type": "display_data"
    }
   ],
   "source": [
    "## plot the distribution of the certified and denied samples after downsampling\n",
    "plot_after_ds = training_dataframe['CASE_STATUS'].value_counts().plot(title = 'CASE STATUS vs NUMBER OF PETITIONS', \\\n",
    "                                                                kind = 'bar', color = 'green')\n",
    "plot_after_ds.set_xlabel(\"CASE STATUS\")\n",
    "plot_after_ds.set_ylabel(\"NUMBER OF PETITIONS\")\n",
    "for p in plot_after_ds.patches:\n",
    "    plot_after_ds.annotate(str(p.get_height()), (p.get_x() * 1.0050, p.get_height() * 1.005))\n",
    "plt.show()"
   ]
  },
  {
   "cell_type": "markdown",
   "metadata": {},
   "source": [
    "## Features Creation and Categorisation"
   ]
  },
  {
   "cell_type": "markdown",
   "metadata": {},
   "source": [
    "For the given categorical data, they need to convert it to numerical values\n",
    "\n",
    "There are three ways to convert the categorical data to numerical ones.\n",
    "\n",
    "1. Encoding to ordinal values\n",
    "2. Feature Hashing\n",
    "3. One-Hot Encoding\n",
    "\n",
    "Prior selecting any of the above methods, it is necessary to get the details of the unique values for each of the columns/Features. Below is the plot for the same."
   ]
  },
  {
   "cell_type": "code",
   "execution_count": 25,
   "metadata": {},
   "outputs": [
    {
     "name": "stdout",
     "output_type": "stream",
     "text": [
      "Case Status  2\n",
      "Unique Employers  80566\n",
      "Prevailing Wages  24804\n",
      "Unique SOCs  983\n",
      "Unique Job Titles  53272\n",
      "Unique Filing Year  6\n",
      "Unique Worksite State  8637\n",
      "Unique Employment Type  2\n"
     ]
    }
   ],
   "source": [
    "# one-hot encoding for every possible and needed column\n",
    "print(\"Case Status \",training_dataframe.CASE_STATUS.nunique())\n",
    "print(\"Unique Employers \",training_dataframe.EMPLOYER_NAME.nunique())\n",
    "print(\"Prevailing Wages \",training_dataframe.PREVAILING_WAGE.nunique())\n",
    "print(\"Unique SOCs \", training_dataframe.SOC_NAME.nunique())\n",
    "print(\"Unique Job Titles \",training_dataframe.JOB_TITLE.nunique())\n",
    "print(\"Unique Filing Year \",training_dataframe.FILING_YEAR.nunique())\n",
    "print(\"Unique Worksite State \",training_dataframe.WORKSITE.nunique())\n",
    "print(\"Unique Employment Type \", training_dataframe.FULL_TIME_POSITION.nunique())"
   ]
  },
  {
   "cell_type": "markdown",
   "metadata": {},
   "source": [
    "### Step 8: Feature Categorisation Functions"
   ]
  },
  {
   "cell_type": "code",
   "execution_count": 26,
   "metadata": {},
   "outputs": [],
   "source": [
    "def wage_categorization(wage):\n",
    "    if wage <=50000:\n",
    "        return \"VERY LOW\"\n",
    "    elif wage >50000 and wage <= 70000:\n",
    "        return \"LOW\"\n",
    "    elif wage >70000 and wage <= 90000:\n",
    "        return \"MEDIUM\"\n",
    "    elif wage >90000 and wage<=150000:\n",
    "        return \"HIGH\"\n",
    "    elif wage >=150000:\n",
    "        return \"VERY HIGH\""
   ]
  },
  {
   "cell_type": "code",
   "execution_count": 27,
   "metadata": {},
   "outputs": [],
   "source": [
    "def categorisation_visagrant(ratio_of_acceptance):\n",
    "    if ratio_of_acceptance == -1:\n",
    "        return \"AR\"\n",
    "    elif ratio_of_acceptance >=0.0 and ratio_of_acceptance<0.20:\n",
    "        return \"VLA\"\n",
    "    elif ratio_of_acceptance>=0.20 and ratio_of_acceptance<0.40:\n",
    "        return \"LA\"\n",
    "    elif ratio_of_acceptance>=0.40 and ratio_of_acceptance<0.60:\n",
    "        return \"MA\"\n",
    "    elif ratio_of_acceptance>=0.60 and ratio_of_acceptance<0.80:\n",
    "        return \"HA\"\n",
    "    elif ratio_of_acceptance>=0.80:\n",
    "        return \"VHA\""
   ]
  },
  {
   "cell_type": "code",
   "execution_count": 28,
   "metadata": {},
   "outputs": [],
   "source": [
    "def state_extractor(work_site):\n",
    "    return work_site.split(', ')[1]"
   ]
  },
  {
   "cell_type": "markdown",
   "metadata": {},
   "source": [
    "## Step 9: Feature Creation for One-Hot Encoding"
   ]
  },
  {
   "cell_type": "code",
   "execution_count": 29,
   "metadata": {},
   "outputs": [],
   "source": [
    "training_dataframe['WORKSITE'] = training_dataframe['WORKSITE'].apply(state_extractor)"
   ]
  },
  {
   "cell_type": "code",
   "execution_count": 30,
   "metadata": {},
   "outputs": [
    {
     "data": {
      "text/plain": [
       "array(['PENNSYLVANIA', 'TEXAS', 'NEW YORK', 'CALIFORNIA', 'CONNECTICUT',\n",
       "       'WASHINGTON', 'MISSOURI', 'OREGON', 'VIRGINIA', 'MASSACHUSETTS',\n",
       "       'OHIO', 'ILLINOIS', 'FLORIDA', 'TENNESSEE', 'IDAHO', 'MARYLAND',\n",
       "       'GEORGIA', 'NORTH CAROLINA', 'NEBRASKA', 'MINNESOTA', 'DELAWARE',\n",
       "       'NEW HAMPSHIRE', 'ALABAMA', 'NEW JERSEY', 'WISCONSIN', 'ARIZONA',\n",
       "       'INDIANA', 'MICHIGAN', 'IOWA', 'COLORADO', 'NEW MEXICO',\n",
       "       'SOUTH CAROLINA', 'LOUISIANA', 'UTAH', 'KENTUCKY', 'ALASKA',\n",
       "       'DISTRICT OF COLUMBIA', 'OKLAHOMA', 'ARKANSAS', 'RHODE ISLAND',\n",
       "       'VERMONT', 'MAINE', 'MISSISSIPPI', 'NA', 'KANSAS', 'NEVADA',\n",
       "       'HAWAII', 'WYOMING', 'PUERTO RICO', 'WEST VIRGINIA', 'MONTANA',\n",
       "       'NORTH DAKOTA', 'SOUTH DAKOTA'], dtype=object)"
      ]
     },
     "execution_count": 30,
     "metadata": {},
     "output_type": "execute_result"
    }
   ],
   "source": [
    "training_dataframe.WORKSITE.unique()"
   ]
  },
  {
   "cell_type": "code",
   "execution_count": 31,
   "metadata": {},
   "outputs": [],
   "source": [
    "training_dataframe['WAGE_CATEGORY'] = training_dataframe['PREVAILING_WAGE'].apply(wage_categorization)"
   ]
  },
  {
   "cell_type": "code",
   "execution_count": 32,
   "metadata": {},
   "outputs": [],
   "source": [
    "training_dataframe_1 = training_dataframe.loc[:,['EMPLOYER_NAME', 'CASE_STATUS']]\n",
    "training_dataframe_1s = training_dataframe.loc[:,['SOC_NAME', 'CASE_STATUS']]\n",
    "training_dataframe_1j = training_dataframe.loc[:,['JOB_TITLE', 'CASE_STATUS']]"
   ]
  },
  {
   "cell_type": "code",
   "execution_count": 33,
   "metadata": {},
   "outputs": [
    {
     "data": {
      "text/plain": [
       "INFOSYS LIMITED                         7668\n",
       "TATA CONSULTANCY SERVICES LIMITED       3846\n",
       "WIPRO LIMITED                           2416\n",
       "DELOITTE CONSULTING LLP                 2242\n",
       "ACCENTURE LLP                           1982\n",
       "                                        ... \n",
       "OCZ TECHNOLOGY GROUP, INC               1   \n",
       "NATIONAL WEB MARKETING LLC              1   \n",
       "WARNER BROS. STUDIO ENTERPRISES INC.    1   \n",
       "SOFTWARE TECHNOLOGY GROUP               1   \n",
       "SQUIRE & COMPANY, P.C.                  1   \n",
       "Name: EMPLOYER_NAME, Length: 39683, dtype: int64"
      ]
     },
     "execution_count": 33,
     "metadata": {},
     "output_type": "execute_result"
    }
   ],
   "source": [
    "training_dataframe_2_C = training_dataframe_1[training_dataframe_1.CASE_STATUS == 'CERTIFIED'].EMPLOYER_NAME\n",
    "training_dataframe_2_Cs = training_dataframe_1s[training_dataframe_1s.CASE_STATUS == 'CERTIFIED'].SOC_NAME\n",
    "training_dataframe_2_Cj = training_dataframe_1j[training_dataframe_1j.CASE_STATUS == 'CERTIFIED'].JOB_TITLE\n",
    "positive_counts = training_dataframe_2_C.value_counts()\n",
    "positive_counts_s = training_dataframe_2_Cs.value_counts()\n",
    "positive_counts_j = training_dataframe_2_Cj.value_counts()\n",
    "positive_counts"
   ]
  },
  {
   "cell_type": "code",
   "execution_count": 34,
   "metadata": {},
   "outputs": [
    {
     "data": {
      "text/plain": [
       "INFOSYS LIMITED                               7993\n",
       "TATA CONSULTANCY SERVICES LIMITED             3967\n",
       "DELOITTE CONSULTING LLP                       2789\n",
       "WIPRO LIMITED                                 2610\n",
       "ACCENTURE LLP                                 2054\n",
       "                                              ... \n",
       "NYP HOLDINGS INC. A.K.A. THE NEW YORK POST    1   \n",
       "AUSTIN GIFTED, INC.                           1   \n",
       "NETEASE INFORMATION TECHNOLOGY CORPORATION    1   \n",
       "COMMUNITY ARENA MANAGEMENT LTD.               1   \n",
       "CALVERT MEDIA INC                             1   \n",
       "Name: EMPLOYER_NAME, Length: 80566, dtype: int64"
      ]
     },
     "execution_count": 34,
     "metadata": {},
     "output_type": "execute_result"
    }
   ],
   "source": [
    "total_counts = training_dataframe_1.EMPLOYER_NAME.value_counts()\n",
    "total_counts_s = training_dataframe_1s.SOC_NAME.value_counts()\n",
    "total_counts_j = training_dataframe_1j.JOB_TITLE.value_counts()\n",
    "total_counts"
   ]
  },
  {
   "cell_type": "code",
   "execution_count": 35,
   "metadata": {},
   "outputs": [
    {
     "data": {
      "text/html": [
       "<div>\n",
       "<style scoped>\n",
       "    .dataframe tbody tr th:only-of-type {\n",
       "        vertical-align: middle;\n",
       "    }\n",
       "\n",
       "    .dataframe tbody tr th {\n",
       "        vertical-align: top;\n",
       "    }\n",
       "\n",
       "    .dataframe thead th {\n",
       "        text-align: right;\n",
       "    }\n",
       "</style>\n",
       "<table border=\"1\" class=\"dataframe\">\n",
       "  <thead>\n",
       "    <tr style=\"text-align: right;\">\n",
       "      <th></th>\n",
       "      <th>CASE_STATUS</th>\n",
       "      <th>EMPLOYER_NAME</th>\n",
       "      <th>SOC_NAME</th>\n",
       "      <th>JOB_TITLE</th>\n",
       "      <th>FULL_TIME_POSITION</th>\n",
       "      <th>PREVAILING_WAGE</th>\n",
       "      <th>FILING_YEAR</th>\n",
       "      <th>WORKSITE</th>\n",
       "      <th>LONGITUDE</th>\n",
       "      <th>LATITUDE</th>\n",
       "      <th>WAGE_CATEGORY</th>\n",
       "      <th>EMPLOYER_ACCEPTANCE</th>\n",
       "    </tr>\n",
       "  </thead>\n",
       "  <tbody>\n",
       "    <tr>\n",
       "      <th>831782</th>\n",
       "      <td>CERTIFIED</td>\n",
       "      <td>OM SHIVA ENTERPRISES INC.</td>\n",
       "      <td>ELECTRONICS ENGINEERS, EXCEPT COMPUTER</td>\n",
       "      <td>ELECTRONIC AND COMMUNICATION ENGINEER</td>\n",
       "      <td>Y</td>\n",
       "      <td>56118.0</td>\n",
       "      <td>2015</td>\n",
       "      <td>PENNSYLVANIA</td>\n",
       "      <td>NaN</td>\n",
       "      <td>NaN</td>\n",
       "      <td>LOW</td>\n",
       "      <td>VHA</td>\n",
       "    </tr>\n",
       "    <tr>\n",
       "      <th>139656</th>\n",
       "      <td>CERTIFIED</td>\n",
       "      <td>EPAM SYSTEMS, INC</td>\n",
       "      <td>COMPUTER SYSTEMS ANALYSTS</td>\n",
       "      <td>LEAD BUSINESS ANALYST</td>\n",
       "      <td>Y</td>\n",
       "      <td>77147.0</td>\n",
       "      <td>2016</td>\n",
       "      <td>PENNSYLVANIA</td>\n",
       "      <td>-75.165222</td>\n",
       "      <td>39.952584</td>\n",
       "      <td>MEDIUM</td>\n",
       "      <td>VHA</td>\n",
       "    </tr>\n",
       "    <tr>\n",
       "      <th>2515170</th>\n",
       "      <td>CERTIFIED</td>\n",
       "      <td>TMH PHYSICIAN ORGANIZATION</td>\n",
       "      <td>HEALTH DIAGNOSING AND TREATING PRACTITIONERS, ALL</td>\n",
       "      <td>RESIDENT OB/GYN</td>\n",
       "      <td>Y</td>\n",
       "      <td>47033.0</td>\n",
       "      <td>2012</td>\n",
       "      <td>TEXAS</td>\n",
       "      <td>-95.369803</td>\n",
       "      <td>29.760427</td>\n",
       "      <td>VERY LOW</td>\n",
       "      <td>LA</td>\n",
       "    </tr>\n",
       "    <tr>\n",
       "      <th>1790210</th>\n",
       "      <td>CERTIFIED</td>\n",
       "      <td>SAP AMERICA, INC.</td>\n",
       "      <td>COMPUTER SYSTEMS ANALYSTS</td>\n",
       "      <td>BUSINESS PROCESS SENIOR CONSULTANT</td>\n",
       "      <td>Y</td>\n",
       "      <td>84282.0</td>\n",
       "      <td>2013</td>\n",
       "      <td>PENNSYLVANIA</td>\n",
       "      <td>-75.400706</td>\n",
       "      <td>39.986890</td>\n",
       "      <td>MEDIUM</td>\n",
       "      <td>VHA</td>\n",
       "    </tr>\n",
       "    <tr>\n",
       "      <th>2628239</th>\n",
       "      <td>CERTIFIED</td>\n",
       "      <td>TOTALKARE OF AMERICA INC</td>\n",
       "      <td>GENERAL AND OPERATIONS MANAGERS</td>\n",
       "      <td>DIRECTOR OF OPERATIONS</td>\n",
       "      <td>Y</td>\n",
       "      <td>56992.0</td>\n",
       "      <td>2012</td>\n",
       "      <td>NEW YORK</td>\n",
       "      <td>-76.147424</td>\n",
       "      <td>43.048122</td>\n",
       "      <td>LOW</td>\n",
       "      <td>VHA</td>\n",
       "    </tr>\n",
       "    <tr>\n",
       "      <th>...</th>\n",
       "      <td>...</td>\n",
       "      <td>...</td>\n",
       "      <td>...</td>\n",
       "      <td>...</td>\n",
       "      <td>...</td>\n",
       "      <td>...</td>\n",
       "      <td>...</td>\n",
       "      <td>...</td>\n",
       "      <td>...</td>\n",
       "      <td>...</td>\n",
       "      <td>...</td>\n",
       "      <td>...</td>\n",
       "    </tr>\n",
       "    <tr>\n",
       "      <th>3002370</th>\n",
       "      <td>DENIED</td>\n",
       "      <td>CUSTOMTBT, LLC</td>\n",
       "      <td>INSTRUCTIONAL COORDINATORS</td>\n",
       "      <td>SENIOR INSTRUCTIONAL DESIGNER</td>\n",
       "      <td>Y</td>\n",
       "      <td>46738.0</td>\n",
       "      <td>2011</td>\n",
       "      <td>GEORGIA</td>\n",
       "      <td>-84.549933</td>\n",
       "      <td>33.952602</td>\n",
       "      <td>VERY LOW</td>\n",
       "      <td>AR</td>\n",
       "    </tr>\n",
       "    <tr>\n",
       "      <th>3002379</th>\n",
       "      <td>DENIED</td>\n",
       "      <td>KEVIN PARK &amp; ASSOCIATES, LTD</td>\n",
       "      <td>ACCOUNTANTS AND AUDITORS</td>\n",
       "      <td>ACCOUNTANT</td>\n",
       "      <td>Y</td>\n",
       "      <td>45760.0</td>\n",
       "      <td>2011</td>\n",
       "      <td>ILLINOIS</td>\n",
       "      <td>-87.980626</td>\n",
       "      <td>42.088360</td>\n",
       "      <td>VERY LOW</td>\n",
       "      <td>AR</td>\n",
       "    </tr>\n",
       "    <tr>\n",
       "      <th>3002384</th>\n",
       "      <td>DENIED</td>\n",
       "      <td>IVERTIX INCORPORATED</td>\n",
       "      <td>COMPUTER PROGRAMMERS</td>\n",
       "      <td>APPLICATION DEVELOPER</td>\n",
       "      <td>Y</td>\n",
       "      <td>54080.0</td>\n",
       "      <td>2011</td>\n",
       "      <td>DISTRICT OF COLUMBIA</td>\n",
       "      <td>-77.036871</td>\n",
       "      <td>38.907192</td>\n",
       "      <td>LOW</td>\n",
       "      <td>AR</td>\n",
       "    </tr>\n",
       "    <tr>\n",
       "      <th>3002390</th>\n",
       "      <td>DENIED</td>\n",
       "      <td>PROGRESSIVE SURFACE, INC.</td>\n",
       "      <td>SALES ENGINEERS</td>\n",
       "      <td>SALES ENGINEER</td>\n",
       "      <td>Y</td>\n",
       "      <td>55141.0</td>\n",
       "      <td>2011</td>\n",
       "      <td>MICHIGAN</td>\n",
       "      <td>-85.668086</td>\n",
       "      <td>42.963360</td>\n",
       "      <td>LOW</td>\n",
       "      <td>AR</td>\n",
       "    </tr>\n",
       "    <tr>\n",
       "      <th>3002393</th>\n",
       "      <td>DENIED</td>\n",
       "      <td>PEI PARTNERSHIP ARCHITECTS LLP</td>\n",
       "      <td>ARCHITECTURAL AND CIVIL DRAFTERS</td>\n",
       "      <td>ARCHITECTURAL DESIGNER</td>\n",
       "      <td>Y</td>\n",
       "      <td>69368.0</td>\n",
       "      <td>2011</td>\n",
       "      <td>NEW YORK</td>\n",
       "      <td>-74.005941</td>\n",
       "      <td>40.712784</td>\n",
       "      <td>LOW</td>\n",
       "      <td>AR</td>\n",
       "    </tr>\n",
       "  </tbody>\n",
       "</table>\n",
       "<p>249775 rows × 12 columns</p>\n",
       "</div>"
      ],
      "text/plain": [
       "        CASE_STATUS                   EMPLOYER_NAME  \\\n",
       "831782   CERTIFIED   OM SHIVA ENTERPRISES INC.        \n",
       "139656   CERTIFIED   EPAM SYSTEMS, INC                \n",
       "2515170  CERTIFIED   TMH PHYSICIAN ORGANIZATION       \n",
       "1790210  CERTIFIED   SAP AMERICA, INC.                \n",
       "2628239  CERTIFIED   TOTALKARE OF AMERICA INC         \n",
       "...            ...                        ...         \n",
       "3002370  DENIED      CUSTOMTBT, LLC                   \n",
       "3002379  DENIED      KEVIN PARK & ASSOCIATES, LTD     \n",
       "3002384  DENIED      IVERTIX INCORPORATED             \n",
       "3002390  DENIED      PROGRESSIVE SURFACE, INC.        \n",
       "3002393  DENIED      PEI PARTNERSHIP ARCHITECTS LLP   \n",
       "\n",
       "                                                  SOC_NAME  \\\n",
       "831782   ELECTRONICS ENGINEERS, EXCEPT COMPUTER              \n",
       "139656   COMPUTER SYSTEMS ANALYSTS                           \n",
       "2515170  HEALTH DIAGNOSING AND TREATING PRACTITIONERS, ALL   \n",
       "1790210  COMPUTER SYSTEMS ANALYSTS                           \n",
       "2628239  GENERAL AND OPERATIONS MANAGERS                     \n",
       "...                                  ...                     \n",
       "3002370  INSTRUCTIONAL COORDINATORS                          \n",
       "3002379  ACCOUNTANTS AND AUDITORS                            \n",
       "3002384  COMPUTER PROGRAMMERS                                \n",
       "3002390  SALES ENGINEERS                                     \n",
       "3002393  ARCHITECTURAL AND CIVIL DRAFTERS                    \n",
       "\n",
       "                                     JOB_TITLE FULL_TIME_POSITION  \\\n",
       "831782   ELECTRONIC AND COMMUNICATION ENGINEER  Y                   \n",
       "139656   LEAD BUSINESS ANALYST                  Y                   \n",
       "2515170  RESIDENT OB/GYN                        Y                   \n",
       "1790210  BUSINESS PROCESS SENIOR CONSULTANT     Y                   \n",
       "2628239  DIRECTOR OF OPERATIONS                 Y                   \n",
       "...                         ...                ..                   \n",
       "3002370  SENIOR INSTRUCTIONAL DESIGNER          Y                   \n",
       "3002379  ACCOUNTANT                             Y                   \n",
       "3002384  APPLICATION DEVELOPER                  Y                   \n",
       "3002390  SALES ENGINEER                         Y                   \n",
       "3002393  ARCHITECTURAL DESIGNER                 Y                   \n",
       "\n",
       "         PREVAILING_WAGE  FILING_YEAR              WORKSITE  LONGITUDE  \\\n",
       "831782   56118.0          2015         PENNSYLVANIA         NaN          \n",
       "139656   77147.0          2016         PENNSYLVANIA         -75.165222   \n",
       "2515170  47033.0          2012         TEXAS                -95.369803   \n",
       "1790210  84282.0          2013         PENNSYLVANIA         -75.400706   \n",
       "2628239  56992.0          2012         NEW YORK             -76.147424   \n",
       "...          ...           ...              ...                    ...   \n",
       "3002370  46738.0          2011         GEORGIA              -84.549933   \n",
       "3002379  45760.0          2011         ILLINOIS             -87.980626   \n",
       "3002384  54080.0          2011         DISTRICT OF COLUMBIA -77.036871   \n",
       "3002390  55141.0          2011         MICHIGAN             -85.668086   \n",
       "3002393  69368.0          2011         NEW YORK             -74.005941   \n",
       "\n",
       "          LATITUDE WAGE_CATEGORY EMPLOYER_ACCEPTANCE  \n",
       "831782  NaN         LOW           VHA                 \n",
       "139656   39.952584  MEDIUM        VHA                 \n",
       "2515170  29.760427  VERY LOW      LA                  \n",
       "1790210  39.986890  MEDIUM        VHA                 \n",
       "2628239  43.048122  LOW           VHA                 \n",
       "...            ...  ...           ...                 \n",
       "3002370  33.952602  VERY LOW      AR                  \n",
       "3002379  42.088360  VERY LOW      AR                  \n",
       "3002384  38.907192  LOW           AR                  \n",
       "3002390  42.963360  LOW           AR                  \n",
       "3002393  40.712784  LOW           AR                  \n",
       "\n",
       "[249775 rows x 12 columns]"
      ]
     },
     "execution_count": 35,
     "metadata": {},
     "output_type": "execute_result"
    }
   ],
   "source": [
    "final_ratio_series = positive_counts / total_counts\n",
    "\n",
    "final_ratio_series.fillna(-1, inplace=True)\n",
    "# pandas.DataFrame.fillna\n",
    "# https://pandas.pydata.org/pandas-docs/stable/reference/api/pandas.DataFrame.fillna.html?highlight=fillna#pandas.DataFrame.fillna\n",
    "    \n",
    "final_classification_employer = final_ratio_series.apply(categorisation_visagrant)\n",
    "training_dataframe['EMPLOYER_ACCEPTANCE'] = training_dataframe.EMPLOYER_NAME.map(final_classification_employer)\n",
    "training_dataframe"
   ]
  },
  {
   "cell_type": "code",
   "execution_count": 36,
   "metadata": {},
   "outputs": [],
   "source": [
    "final_ratio_series_s = positive_counts_s / total_counts_s\n",
    "final_ratio_series_s.fillna(-1, inplace=True)\n",
    "final_classification_soc = final_ratio_series_s.apply(categorisation_visagrant)\n",
    "training_dataframe['SOC_ACCEPTANCE'] = training_dataframe.SOC_NAME.map(final_classification_soc)"
   ]
  },
  {
   "cell_type": "code",
   "execution_count": 37,
   "metadata": {},
   "outputs": [],
   "source": [
    "final_ratio_series_j = positive_counts_j / total_counts_j\n",
    "final_ratio_series_j.fillna(-1, inplace=True)\n",
    "final_classification_job = final_ratio_series_j.apply(categorisation_visagrant)\n",
    "training_dataframe['JOB_ACCEPTANCE'] = training_dataframe.JOB_TITLE.map(final_classification_job)"
   ]
  },
  {
   "cell_type": "code",
   "execution_count": 38,
   "metadata": {},
   "outputs": [
    {
     "name": "stdout",
     "output_type": "stream",
     "text": [
      "Case Status  2\n",
      "Unique Employers  6\n",
      "Wages Category 5\n",
      "Unique SOCs  6\n",
      "Unique Job Titles  6\n",
      "Unique Filing Year  6\n",
      "Unique Worksite State  53\n",
      "Unique Employment Type  2\n"
     ]
    }
   ],
   "source": [
    "print(\"Case Status \",training_dataframe.CASE_STATUS.nunique())\n",
    "print(\"Unique Employers \",training_dataframe.EMPLOYER_ACCEPTANCE.nunique())\n",
    "print(\"Wages Category\", training_dataframe.WAGE_CATEGORY.nunique())\n",
    "print(\"Unique SOCs \", training_dataframe.SOC_ACCEPTANCE.nunique())\n",
    "print(\"Unique Job Titles \",training_dataframe.JOB_ACCEPTANCE.nunique())\n",
    "print(\"Unique Filing Year \",training_dataframe.FILING_YEAR.nunique())\n",
    "print(\"Unique Worksite State \",training_dataframe.WORKSITE.nunique())\n",
    "print(\"Unique Employment Type \", training_dataframe.FULL_TIME_POSITION.nunique())"
   ]
  },
  {
   "cell_type": "code",
   "execution_count": 39,
   "metadata": {},
   "outputs": [],
   "source": [
    "dict_cs = {\"CERTIFIED\" : 1, \"DENIED\": 0}\n",
    "dict_fp = {\"Y\" : 1, \"N\" : 0}\n",
    "try:\n",
    "    \n",
    "    training_dataframe['CASE_STATUS'] = training_dataframe['CASE_STATUS'].apply(lambda x: dict_cs[x])\n",
    "    training_dataframe['FULL_TIME_POSITION'] = training_dataframe['FULL_TIME_POSITION'].apply(lambda x: dict_fp[x])\n",
    "except:\n",
    "    pass"
   ]
  },
  {
   "cell_type": "code",
   "execution_count": 40,
   "metadata": {},
   "outputs": [
    {
     "data": {
      "text/html": [
       "<div>\n",
       "<style scoped>\n",
       "    .dataframe tbody tr th:only-of-type {\n",
       "        vertical-align: middle;\n",
       "    }\n",
       "\n",
       "    .dataframe tbody tr th {\n",
       "        vertical-align: top;\n",
       "    }\n",
       "\n",
       "    .dataframe thead th {\n",
       "        text-align: right;\n",
       "    }\n",
       "</style>\n",
       "<table border=\"1\" class=\"dataframe\">\n",
       "  <thead>\n",
       "    <tr style=\"text-align: right;\">\n",
       "      <th></th>\n",
       "      <th>CASE_STATUS</th>\n",
       "      <th>FILING_YEAR</th>\n",
       "      <th>WORKSITE</th>\n",
       "      <th>WAGE_CATEGORY</th>\n",
       "      <th>EMPLOYER_ACCEPTANCE</th>\n",
       "      <th>JOB_ACCEPTANCE</th>\n",
       "      <th>SOC_ACCEPTANCE</th>\n",
       "      <th>FULL_TIME_POSITION</th>\n",
       "    </tr>\n",
       "  </thead>\n",
       "  <tbody>\n",
       "    <tr>\n",
       "      <th>40</th>\n",
       "      <td>0</td>\n",
       "      <td>2016</td>\n",
       "      <td>WASHINGTON</td>\n",
       "      <td>VERY HIGH</td>\n",
       "      <td>AR</td>\n",
       "      <td>LA</td>\n",
       "      <td>LA</td>\n",
       "      <td>1</td>\n",
       "    </tr>\n",
       "    <tr>\n",
       "      <th>48</th>\n",
       "      <td>0</td>\n",
       "      <td>2016</td>\n",
       "      <td>CALIFORNIA</td>\n",
       "      <td>VERY HIGH</td>\n",
       "      <td>AR</td>\n",
       "      <td>LA</td>\n",
       "      <td>LA</td>\n",
       "      <td>1</td>\n",
       "    </tr>\n",
       "    <tr>\n",
       "      <th>67</th>\n",
       "      <td>1</td>\n",
       "      <td>2016</td>\n",
       "      <td>GEORGIA</td>\n",
       "      <td>VERY HIGH</td>\n",
       "      <td>VHA</td>\n",
       "      <td>LA</td>\n",
       "      <td>LA</td>\n",
       "      <td>1</td>\n",
       "    </tr>\n",
       "    <tr>\n",
       "      <th>71</th>\n",
       "      <td>1</td>\n",
       "      <td>2016</td>\n",
       "      <td>PENNSYLVANIA</td>\n",
       "      <td>VERY HIGH</td>\n",
       "      <td>VHA</td>\n",
       "      <td>LA</td>\n",
       "      <td>LA</td>\n",
       "      <td>1</td>\n",
       "    </tr>\n",
       "    <tr>\n",
       "      <th>92</th>\n",
       "      <td>0</td>\n",
       "      <td>2016</td>\n",
       "      <td>MICHIGAN</td>\n",
       "      <td>HIGH</td>\n",
       "      <td>AR</td>\n",
       "      <td>VLA</td>\n",
       "      <td>LA</td>\n",
       "      <td>1</td>\n",
       "    </tr>\n",
       "  </tbody>\n",
       "</table>\n",
       "</div>"
      ],
      "text/plain": [
       "    CASE_STATUS  FILING_YEAR      WORKSITE WAGE_CATEGORY EMPLOYER_ACCEPTANCE  \\\n",
       "40  0            2016         WASHINGTON    VERY HIGH     AR                   \n",
       "48  0            2016         CALIFORNIA    VERY HIGH     AR                   \n",
       "67  1            2016         GEORGIA       VERY HIGH     VHA                  \n",
       "71  1            2016         PENNSYLVANIA  VERY HIGH     VHA                  \n",
       "92  0            2016         MICHIGAN      HIGH          AR                   \n",
       "\n",
       "   JOB_ACCEPTANCE SOC_ACCEPTANCE  FULL_TIME_POSITION  \n",
       "40  LA             LA             1                   \n",
       "48  LA             LA             1                   \n",
       "67  LA             LA             1                   \n",
       "71  LA             LA             1                   \n",
       "92  VLA            LA             1                   "
      ]
     },
     "execution_count": 40,
     "metadata": {},
     "output_type": "execute_result"
    }
   ],
   "source": [
    "training_dataframe['FILING_YEAR'] = training_dataframe['FILING_YEAR'].astype('int')\n",
    "training_dataframe.sort_index(inplace = True)\n",
    "training_dataframe = training_dataframe.loc[:, ['CASE_STATUS', 'FILING_YEAR',\\\n",
    "                                                'WORKSITE', 'WAGE_CATEGORY',  'EMPLOYER_ACCEPTANCE', 'JOB_ACCEPTANCE', 'SOC_ACCEPTANCE', 'FULL_TIME_POSITION']]\n",
    "training_dataframe.head()"
   ]
  },
  {
   "cell_type": "markdown",
   "metadata": {},
   "source": [
    "## Step 10: Apply One-hot encoding"
   ]
  },
  {
   "cell_type": "code",
   "execution_count": 41,
   "metadata": {},
   "outputs": [
    {
     "data": {
      "text/html": [
       "<div>\n",
       "<style scoped>\n",
       "    .dataframe tbody tr th:only-of-type {\n",
       "        vertical-align: middle;\n",
       "    }\n",
       "\n",
       "    .dataframe tbody tr th {\n",
       "        vertical-align: top;\n",
       "    }\n",
       "\n",
       "    .dataframe thead th {\n",
       "        text-align: right;\n",
       "    }\n",
       "</style>\n",
       "<table border=\"1\" class=\"dataframe\">\n",
       "  <thead>\n",
       "    <tr style=\"text-align: right;\">\n",
       "      <th></th>\n",
       "      <th>CASE_STATUS</th>\n",
       "      <th>FILING_YEAR_2012</th>\n",
       "      <th>FILING_YEAR_2013</th>\n",
       "      <th>FILING_YEAR_2014</th>\n",
       "      <th>FILING_YEAR_2015</th>\n",
       "      <th>FILING_YEAR_2016</th>\n",
       "      <th>WORKSITE_ALASKA</th>\n",
       "      <th>WORKSITE_ARIZONA</th>\n",
       "      <th>WORKSITE_ARKANSAS</th>\n",
       "      <th>WORKSITE_CALIFORNIA</th>\n",
       "      <th>...</th>\n",
       "      <th>JOB_ACCEPTANCE_HA</th>\n",
       "      <th>JOB_ACCEPTANCE_LA</th>\n",
       "      <th>JOB_ACCEPTANCE_MA</th>\n",
       "      <th>JOB_ACCEPTANCE_VHA</th>\n",
       "      <th>JOB_ACCEPTANCE_VLA</th>\n",
       "      <th>SOC_ACCEPTANCE_HA</th>\n",
       "      <th>SOC_ACCEPTANCE_LA</th>\n",
       "      <th>SOC_ACCEPTANCE_MA</th>\n",
       "      <th>SOC_ACCEPTANCE_VHA</th>\n",
       "      <th>SOC_ACCEPTANCE_VLA</th>\n",
       "    </tr>\n",
       "  </thead>\n",
       "  <tbody>\n",
       "    <tr>\n",
       "      <th>40</th>\n",
       "      <td>0</td>\n",
       "      <td>0</td>\n",
       "      <td>0</td>\n",
       "      <td>0</td>\n",
       "      <td>0</td>\n",
       "      <td>1</td>\n",
       "      <td>0</td>\n",
       "      <td>0</td>\n",
       "      <td>0</td>\n",
       "      <td>0</td>\n",
       "      <td>...</td>\n",
       "      <td>0</td>\n",
       "      <td>1</td>\n",
       "      <td>0</td>\n",
       "      <td>0</td>\n",
       "      <td>0</td>\n",
       "      <td>0</td>\n",
       "      <td>1</td>\n",
       "      <td>0</td>\n",
       "      <td>0</td>\n",
       "      <td>0</td>\n",
       "    </tr>\n",
       "    <tr>\n",
       "      <th>48</th>\n",
       "      <td>0</td>\n",
       "      <td>0</td>\n",
       "      <td>0</td>\n",
       "      <td>0</td>\n",
       "      <td>0</td>\n",
       "      <td>1</td>\n",
       "      <td>0</td>\n",
       "      <td>0</td>\n",
       "      <td>0</td>\n",
       "      <td>1</td>\n",
       "      <td>...</td>\n",
       "      <td>0</td>\n",
       "      <td>1</td>\n",
       "      <td>0</td>\n",
       "      <td>0</td>\n",
       "      <td>0</td>\n",
       "      <td>0</td>\n",
       "      <td>1</td>\n",
       "      <td>0</td>\n",
       "      <td>0</td>\n",
       "      <td>0</td>\n",
       "    </tr>\n",
       "    <tr>\n",
       "      <th>67</th>\n",
       "      <td>1</td>\n",
       "      <td>0</td>\n",
       "      <td>0</td>\n",
       "      <td>0</td>\n",
       "      <td>0</td>\n",
       "      <td>1</td>\n",
       "      <td>0</td>\n",
       "      <td>0</td>\n",
       "      <td>0</td>\n",
       "      <td>0</td>\n",
       "      <td>...</td>\n",
       "      <td>0</td>\n",
       "      <td>1</td>\n",
       "      <td>0</td>\n",
       "      <td>0</td>\n",
       "      <td>0</td>\n",
       "      <td>0</td>\n",
       "      <td>1</td>\n",
       "      <td>0</td>\n",
       "      <td>0</td>\n",
       "      <td>0</td>\n",
       "    </tr>\n",
       "    <tr>\n",
       "      <th>71</th>\n",
       "      <td>1</td>\n",
       "      <td>0</td>\n",
       "      <td>0</td>\n",
       "      <td>0</td>\n",
       "      <td>0</td>\n",
       "      <td>1</td>\n",
       "      <td>0</td>\n",
       "      <td>0</td>\n",
       "      <td>0</td>\n",
       "      <td>0</td>\n",
       "      <td>...</td>\n",
       "      <td>0</td>\n",
       "      <td>1</td>\n",
       "      <td>0</td>\n",
       "      <td>0</td>\n",
       "      <td>0</td>\n",
       "      <td>0</td>\n",
       "      <td>1</td>\n",
       "      <td>0</td>\n",
       "      <td>0</td>\n",
       "      <td>0</td>\n",
       "    </tr>\n",
       "    <tr>\n",
       "      <th>92</th>\n",
       "      <td>0</td>\n",
       "      <td>0</td>\n",
       "      <td>0</td>\n",
       "      <td>0</td>\n",
       "      <td>0</td>\n",
       "      <td>1</td>\n",
       "      <td>0</td>\n",
       "      <td>0</td>\n",
       "      <td>0</td>\n",
       "      <td>0</td>\n",
       "      <td>...</td>\n",
       "      <td>0</td>\n",
       "      <td>0</td>\n",
       "      <td>0</td>\n",
       "      <td>0</td>\n",
       "      <td>1</td>\n",
       "      <td>0</td>\n",
       "      <td>1</td>\n",
       "      <td>0</td>\n",
       "      <td>0</td>\n",
       "      <td>0</td>\n",
       "    </tr>\n",
       "  </tbody>\n",
       "</table>\n",
       "<p>5 rows × 78 columns</p>\n",
       "</div>"
      ],
      "text/plain": [
       "    CASE_STATUS  FILING_YEAR_2012  FILING_YEAR_2013  FILING_YEAR_2014  \\\n",
       "40  0            0                 0                 0                  \n",
       "48  0            0                 0                 0                  \n",
       "67  1            0                 0                 0                  \n",
       "71  1            0                 0                 0                  \n",
       "92  0            0                 0                 0                  \n",
       "\n",
       "    FILING_YEAR_2015  FILING_YEAR_2016  WORKSITE_ALASKA  WORKSITE_ARIZONA  \\\n",
       "40  0                 1                 0                0                  \n",
       "48  0                 1                 0                0                  \n",
       "67  0                 1                 0                0                  \n",
       "71  0                 1                 0                0                  \n",
       "92  0                 1                 0                0                  \n",
       "\n",
       "    WORKSITE_ARKANSAS  WORKSITE_CALIFORNIA  ...  JOB_ACCEPTANCE_HA  \\\n",
       "40  0                  0                    ...  0                   \n",
       "48  0                  1                    ...  0                   \n",
       "67  0                  0                    ...  0                   \n",
       "71  0                  0                    ...  0                   \n",
       "92  0                  0                    ...  0                   \n",
       "\n",
       "    JOB_ACCEPTANCE_LA  JOB_ACCEPTANCE_MA  JOB_ACCEPTANCE_VHA  \\\n",
       "40  1                  0                  0                    \n",
       "48  1                  0                  0                    \n",
       "67  1                  0                  0                    \n",
       "71  1                  0                  0                    \n",
       "92  0                  0                  0                    \n",
       "\n",
       "    JOB_ACCEPTANCE_VLA  SOC_ACCEPTANCE_HA  SOC_ACCEPTANCE_LA  \\\n",
       "40  0                   0                  1                   \n",
       "48  0                   0                  1                   \n",
       "67  0                   0                  1                   \n",
       "71  0                   0                  1                   \n",
       "92  1                   0                  1                   \n",
       "\n",
       "    SOC_ACCEPTANCE_MA  SOC_ACCEPTANCE_VHA  SOC_ACCEPTANCE_VLA  \n",
       "40  0                  0                   0                   \n",
       "48  0                  0                   0                   \n",
       "67  0                  0                   0                   \n",
       "71  0                  0                   0                   \n",
       "92  0                  0                   0                   \n",
       "\n",
       "[5 rows x 78 columns]"
      ]
     },
     "execution_count": 41,
     "metadata": {},
     "output_type": "execute_result"
    }
   ],
   "source": [
    "final_df_train = pd.get_dummies(training_dataframe, columns=['FILING_YEAR', 'WORKSITE', 'FULL_TIME_POSITION', 'WAGE_CATEGORY', 'EMPLOYER_ACCEPTANCE',\n",
    "                                                             \n",
    "                                                                'JOB_ACCEPTANCE', 'SOC_ACCEPTANCE' ], drop_first=True)\n",
    "final_df_train.head()"
   ]
  },
  {
   "cell_type": "markdown",
   "metadata": {},
   "source": [
    "## Step 11: RFE for feature elimination"
   ]
  },
  {
   "cell_type": "code",
   "execution_count": 42,
   "metadata": {},
   "outputs": [
    {
     "name": "stderr",
     "output_type": "stream",
     "text": [
      "/Users/yutian/anaconda3/lib/python3.7/site-packages/sklearn/linear_model/logistic.py:432: FutureWarning: Default solver will be changed to 'lbfgs' in 0.22. Specify a solver to silence this warning.\n",
      "  FutureWarning)\n",
      "/Users/yutian/anaconda3/lib/python3.7/site-packages/sklearn/linear_model/logistic.py:432: FutureWarning: Default solver will be changed to 'lbfgs' in 0.22. Specify a solver to silence this warning.\n",
      "  FutureWarning)\n",
      "/Users/yutian/anaconda3/lib/python3.7/site-packages/sklearn/linear_model/logistic.py:432: FutureWarning: Default solver will be changed to 'lbfgs' in 0.22. Specify a solver to silence this warning.\n",
      "  FutureWarning)\n",
      "/Users/yutian/anaconda3/lib/python3.7/site-packages/sklearn/linear_model/logistic.py:432: FutureWarning: Default solver will be changed to 'lbfgs' in 0.22. Specify a solver to silence this warning.\n",
      "  FutureWarning)\n",
      "/Users/yutian/anaconda3/lib/python3.7/site-packages/sklearn/linear_model/logistic.py:432: FutureWarning: Default solver will be changed to 'lbfgs' in 0.22. Specify a solver to silence this warning.\n",
      "  FutureWarning)\n",
      "/Users/yutian/anaconda3/lib/python3.7/site-packages/sklearn/linear_model/logistic.py:432: FutureWarning: Default solver will be changed to 'lbfgs' in 0.22. Specify a solver to silence this warning.\n",
      "  FutureWarning)\n",
      "/Users/yutian/anaconda3/lib/python3.7/site-packages/sklearn/linear_model/logistic.py:432: FutureWarning: Default solver will be changed to 'lbfgs' in 0.22. Specify a solver to silence this warning.\n",
      "  FutureWarning)\n",
      "/Users/yutian/anaconda3/lib/python3.7/site-packages/sklearn/linear_model/logistic.py:432: FutureWarning: Default solver will be changed to 'lbfgs' in 0.22. Specify a solver to silence this warning.\n",
      "  FutureWarning)\n",
      "/Users/yutian/anaconda3/lib/python3.7/site-packages/sklearn/linear_model/logistic.py:432: FutureWarning: Default solver will be changed to 'lbfgs' in 0.22. Specify a solver to silence this warning.\n",
      "  FutureWarning)\n",
      "/Users/yutian/anaconda3/lib/python3.7/site-packages/sklearn/linear_model/logistic.py:432: FutureWarning: Default solver will be changed to 'lbfgs' in 0.22. Specify a solver to silence this warning.\n",
      "  FutureWarning)\n",
      "/Users/yutian/anaconda3/lib/python3.7/site-packages/sklearn/linear_model/logistic.py:432: FutureWarning: Default solver will be changed to 'lbfgs' in 0.22. Specify a solver to silence this warning.\n",
      "  FutureWarning)\n",
      "/Users/yutian/anaconda3/lib/python3.7/site-packages/sklearn/linear_model/logistic.py:432: FutureWarning: Default solver will be changed to 'lbfgs' in 0.22. Specify a solver to silence this warning.\n",
      "  FutureWarning)\n",
      "/Users/yutian/anaconda3/lib/python3.7/site-packages/sklearn/linear_model/logistic.py:432: FutureWarning: Default solver will be changed to 'lbfgs' in 0.22. Specify a solver to silence this warning.\n",
      "  FutureWarning)\n",
      "/Users/yutian/anaconda3/lib/python3.7/site-packages/sklearn/linear_model/logistic.py:432: FutureWarning: Default solver will be changed to 'lbfgs' in 0.22. Specify a solver to silence this warning.\n",
      "  FutureWarning)\n",
      "/Users/yutian/anaconda3/lib/python3.7/site-packages/sklearn/linear_model/logistic.py:432: FutureWarning: Default solver will be changed to 'lbfgs' in 0.22. Specify a solver to silence this warning.\n",
      "  FutureWarning)\n",
      "/Users/yutian/anaconda3/lib/python3.7/site-packages/sklearn/linear_model/logistic.py:432: FutureWarning: Default solver will be changed to 'lbfgs' in 0.22. Specify a solver to silence this warning.\n",
      "  FutureWarning)\n",
      "/Users/yutian/anaconda3/lib/python3.7/site-packages/sklearn/linear_model/logistic.py:432: FutureWarning: Default solver will be changed to 'lbfgs' in 0.22. Specify a solver to silence this warning.\n",
      "  FutureWarning)\n",
      "/Users/yutian/anaconda3/lib/python3.7/site-packages/sklearn/linear_model/logistic.py:432: FutureWarning: Default solver will be changed to 'lbfgs' in 0.22. Specify a solver to silence this warning.\n",
      "  FutureWarning)\n",
      "/Users/yutian/anaconda3/lib/python3.7/site-packages/sklearn/linear_model/logistic.py:432: FutureWarning: Default solver will be changed to 'lbfgs' in 0.22. Specify a solver to silence this warning.\n",
      "  FutureWarning)\n",
      "/Users/yutian/anaconda3/lib/python3.7/site-packages/sklearn/linear_model/logistic.py:432: FutureWarning: Default solver will be changed to 'lbfgs' in 0.22. Specify a solver to silence this warning.\n",
      "  FutureWarning)\n",
      "/Users/yutian/anaconda3/lib/python3.7/site-packages/sklearn/linear_model/logistic.py:432: FutureWarning: Default solver will be changed to 'lbfgs' in 0.22. Specify a solver to silence this warning.\n",
      "  FutureWarning)\n",
      "/Users/yutian/anaconda3/lib/python3.7/site-packages/sklearn/linear_model/logistic.py:432: FutureWarning: Default solver will be changed to 'lbfgs' in 0.22. Specify a solver to silence this warning.\n",
      "  FutureWarning)\n",
      "/Users/yutian/anaconda3/lib/python3.7/site-packages/sklearn/linear_model/logistic.py:432: FutureWarning: Default solver will be changed to 'lbfgs' in 0.22. Specify a solver to silence this warning.\n",
      "  FutureWarning)\n",
      "/Users/yutian/anaconda3/lib/python3.7/site-packages/sklearn/linear_model/logistic.py:432: FutureWarning: Default solver will be changed to 'lbfgs' in 0.22. Specify a solver to silence this warning.\n",
      "  FutureWarning)\n",
      "/Users/yutian/anaconda3/lib/python3.7/site-packages/sklearn/linear_model/logistic.py:432: FutureWarning: Default solver will be changed to 'lbfgs' in 0.22. Specify a solver to silence this warning.\n",
      "  FutureWarning)\n",
      "/Users/yutian/anaconda3/lib/python3.7/site-packages/sklearn/linear_model/logistic.py:432: FutureWarning: Default solver will be changed to 'lbfgs' in 0.22. Specify a solver to silence this warning.\n",
      "  FutureWarning)\n",
      "/Users/yutian/anaconda3/lib/python3.7/site-packages/sklearn/linear_model/logistic.py:432: FutureWarning: Default solver will be changed to 'lbfgs' in 0.22. Specify a solver to silence this warning.\n",
      "  FutureWarning)\n",
      "/Users/yutian/anaconda3/lib/python3.7/site-packages/sklearn/linear_model/logistic.py:432: FutureWarning: Default solver will be changed to 'lbfgs' in 0.22. Specify a solver to silence this warning.\n",
      "  FutureWarning)\n",
      "/Users/yutian/anaconda3/lib/python3.7/site-packages/sklearn/linear_model/logistic.py:432: FutureWarning: Default solver will be changed to 'lbfgs' in 0.22. Specify a solver to silence this warning.\n",
      "  FutureWarning)\n",
      "/Users/yutian/anaconda3/lib/python3.7/site-packages/sklearn/linear_model/logistic.py:432: FutureWarning: Default solver will be changed to 'lbfgs' in 0.22. Specify a solver to silence this warning.\n",
      "  FutureWarning)\n",
      "/Users/yutian/anaconda3/lib/python3.7/site-packages/sklearn/linear_model/logistic.py:432: FutureWarning: Default solver will be changed to 'lbfgs' in 0.22. Specify a solver to silence this warning.\n",
      "  FutureWarning)\n",
      "/Users/yutian/anaconda3/lib/python3.7/site-packages/sklearn/linear_model/logistic.py:432: FutureWarning: Default solver will be changed to 'lbfgs' in 0.22. Specify a solver to silence this warning.\n",
      "  FutureWarning)\n",
      "/Users/yutian/anaconda3/lib/python3.7/site-packages/sklearn/linear_model/logistic.py:432: FutureWarning: Default solver will be changed to 'lbfgs' in 0.22. Specify a solver to silence this warning.\n",
      "  FutureWarning)\n",
      "/Users/yutian/anaconda3/lib/python3.7/site-packages/sklearn/linear_model/logistic.py:432: FutureWarning: Default solver will be changed to 'lbfgs' in 0.22. Specify a solver to silence this warning.\n",
      "  FutureWarning)\n",
      "/Users/yutian/anaconda3/lib/python3.7/site-packages/sklearn/linear_model/logistic.py:432: FutureWarning: Default solver will be changed to 'lbfgs' in 0.22. Specify a solver to silence this warning.\n",
      "  FutureWarning)\n",
      "/Users/yutian/anaconda3/lib/python3.7/site-packages/sklearn/linear_model/logistic.py:432: FutureWarning: Default solver will be changed to 'lbfgs' in 0.22. Specify a solver to silence this warning.\n",
      "  FutureWarning)\n",
      "/Users/yutian/anaconda3/lib/python3.7/site-packages/sklearn/linear_model/logistic.py:432: FutureWarning: Default solver will be changed to 'lbfgs' in 0.22. Specify a solver to silence this warning.\n",
      "  FutureWarning)\n",
      "/Users/yutian/anaconda3/lib/python3.7/site-packages/sklearn/linear_model/logistic.py:432: FutureWarning: Default solver will be changed to 'lbfgs' in 0.22. Specify a solver to silence this warning.\n",
      "  FutureWarning)\n",
      "/Users/yutian/anaconda3/lib/python3.7/site-packages/sklearn/linear_model/logistic.py:432: FutureWarning: Default solver will be changed to 'lbfgs' in 0.22. Specify a solver to silence this warning.\n",
      "  FutureWarning)\n"
     ]
    },
    {
     "name": "stderr",
     "output_type": "stream",
     "text": [
      "/Users/yutian/anaconda3/lib/python3.7/site-packages/sklearn/linear_model/logistic.py:432: FutureWarning: Default solver will be changed to 'lbfgs' in 0.22. Specify a solver to silence this warning.\n",
      "  FutureWarning)\n",
      "/Users/yutian/anaconda3/lib/python3.7/site-packages/sklearn/linear_model/logistic.py:432: FutureWarning: Default solver will be changed to 'lbfgs' in 0.22. Specify a solver to silence this warning.\n",
      "  FutureWarning)\n",
      "/Users/yutian/anaconda3/lib/python3.7/site-packages/sklearn/linear_model/logistic.py:432: FutureWarning: Default solver will be changed to 'lbfgs' in 0.22. Specify a solver to silence this warning.\n",
      "  FutureWarning)\n",
      "/Users/yutian/anaconda3/lib/python3.7/site-packages/sklearn/linear_model/logistic.py:432: FutureWarning: Default solver will be changed to 'lbfgs' in 0.22. Specify a solver to silence this warning.\n",
      "  FutureWarning)\n",
      "/Users/yutian/anaconda3/lib/python3.7/site-packages/sklearn/linear_model/logistic.py:432: FutureWarning: Default solver will be changed to 'lbfgs' in 0.22. Specify a solver to silence this warning.\n",
      "  FutureWarning)\n",
      "/Users/yutian/anaconda3/lib/python3.7/site-packages/sklearn/linear_model/logistic.py:432: FutureWarning: Default solver will be changed to 'lbfgs' in 0.22. Specify a solver to silence this warning.\n",
      "  FutureWarning)\n",
      "/Users/yutian/anaconda3/lib/python3.7/site-packages/sklearn/linear_model/logistic.py:432: FutureWarning: Default solver will be changed to 'lbfgs' in 0.22. Specify a solver to silence this warning.\n",
      "  FutureWarning)\n",
      "/Users/yutian/anaconda3/lib/python3.7/site-packages/sklearn/linear_model/logistic.py:432: FutureWarning: Default solver will be changed to 'lbfgs' in 0.22. Specify a solver to silence this warning.\n",
      "  FutureWarning)\n",
      "/Users/yutian/anaconda3/lib/python3.7/site-packages/sklearn/linear_model/logistic.py:432: FutureWarning: Default solver will be changed to 'lbfgs' in 0.22. Specify a solver to silence this warning.\n",
      "  FutureWarning)\n"
     ]
    },
    {
     "name": "stdout",
     "output_type": "stream",
     "text": [
      "['FILING_YEAR_2012', 'FILING_YEAR_2013', 'FILING_YEAR_2014', 'FILING_YEAR_2015', 'FILING_YEAR_2016', 'WORKSITE_COLORADO', 'WORKSITE_DISTRICT OF COLUMBIA', 'WORKSITE_MAINE', 'WORKSITE_MISSISSIPPI', 'WORKSITE_NA', 'WORKSITE_NEW MEXICO', 'WORKSITE_NORTH DAKOTA', 'WORKSITE_OKLAHOMA', 'WORKSITE_SOUTH DAKOTA', 'FULL_TIME_POSITION_1', 'WAGE_CATEGORY_VERY HIGH', 'EMPLOYER_ACCEPTANCE_HA', 'EMPLOYER_ACCEPTANCE_LA', 'EMPLOYER_ACCEPTANCE_MA', 'EMPLOYER_ACCEPTANCE_VHA', 'EMPLOYER_ACCEPTANCE_VLA', 'JOB_ACCEPTANCE_HA', 'JOB_ACCEPTANCE_LA', 'JOB_ACCEPTANCE_MA', 'JOB_ACCEPTANCE_VHA', 'JOB_ACCEPTANCE_VLA', 'SOC_ACCEPTANCE_LA', 'SOC_ACCEPTANCE_MA', 'SOC_ACCEPTANCE_VHA', 'SOC_ACCEPTANCE_VLA']\n",
      "[ 1  1  1  1  1 34 30 39 20  1 13 29  1 43  5 40 14 31 38 46 37 32 22  1\n",
      " 15 12 17 24  1 18  8  1 42  7 36 23  1 27  6  1 25  1 44 11 19 35 48  1\n",
      " 26 16 21  4  9  3 41 45 10  1 33 47  1  2  1  1  1  1  1  1  1  1  1  1\n",
      " 28  1  1  1  1]\n"
     ]
    }
   ],
   "source": [
    "model = LogisticRegression()\n",
    "rfe = RFE(model, 30)\n",
    "fit = rfe.fit(final_df_train.iloc[:,1:], final_df_train.iloc[:,0])\n",
    "support_rfe = rfe.support_\n",
    "length_cols = list(final_df_train.iloc[:,1:].columns.values)\n",
    "list_selected = []\n",
    "for index in range(len(length_cols)):\n",
    "    if support_rfe[index] == True:\n",
    "        list_selected.append(length_cols[index])\n",
    "    else:\n",
    "        pass\n",
    "print(list_selected)\n",
    "print(rfe.ranking_)     # ref.ranking_ returns an array with positive integer values \n",
    "                         # to indicate the attribute ranking with a lower score indicating a higher ranking "
   ]
  },
  {
   "cell_type": "code",
   "execution_count": 43,
   "metadata": {},
   "outputs": [
    {
     "data": {
      "text/plain": [
       "{'EMPLOYER', 'FILING', 'FULL', 'JOB', 'SOC', 'WAGE', 'WORKSITE'}"
      ]
     },
     "execution_count": 43,
     "metadata": {},
     "output_type": "execute_result"
    }
   ],
   "source": [
    "unique_listcols = [col.split('_')[0] for col in list_selected]\n",
    "set(unique_listcols)"
   ]
  },
  {
   "cell_type": "markdown",
   "metadata": {},
   "source": [
    "### Splitting into training and test data"
   ]
  },
  {
   "cell_type": "code",
   "execution_count": 44,
   "metadata": {},
   "outputs": [
    {
     "data": {
      "text/plain": [
       "(31200,)"
      ]
     },
     "execution_count": 44,
     "metadata": {},
     "output_type": "execute_result"
    }
   ],
   "source": [
    "X_train, X_test, y_train, y_test = train_test_split(final_df_train.iloc[:,1:1000], final_df_train.iloc[:, 0], test_size = 0.20, random_state=1)\n",
    "#y_train[y_train==1].shape\n",
    "y_test[y_test==1].shape"
   ]
  },
  {
   "cell_type": "code",
   "execution_count": 45,
   "metadata": {},
   "outputs": [
    {
     "data": {
      "text/html": [
       "<div>\n",
       "<style scoped>\n",
       "    .dataframe tbody tr th:only-of-type {\n",
       "        vertical-align: middle;\n",
       "    }\n",
       "\n",
       "    .dataframe tbody tr th {\n",
       "        vertical-align: top;\n",
       "    }\n",
       "\n",
       "    .dataframe thead th {\n",
       "        text-align: right;\n",
       "    }\n",
       "</style>\n",
       "<table border=\"1\" class=\"dataframe\">\n",
       "  <thead>\n",
       "    <tr style=\"text-align: right;\">\n",
       "      <th></th>\n",
       "      <th>FILING_YEAR_2012</th>\n",
       "      <th>FILING_YEAR_2013</th>\n",
       "      <th>FILING_YEAR_2014</th>\n",
       "      <th>FILING_YEAR_2015</th>\n",
       "      <th>FILING_YEAR_2016</th>\n",
       "      <th>WORKSITE_ALASKA</th>\n",
       "      <th>WORKSITE_ARIZONA</th>\n",
       "      <th>WORKSITE_ARKANSAS</th>\n",
       "      <th>WORKSITE_CALIFORNIA</th>\n",
       "      <th>WORKSITE_COLORADO</th>\n",
       "      <th>...</th>\n",
       "      <th>JOB_ACCEPTANCE_HA</th>\n",
       "      <th>JOB_ACCEPTANCE_LA</th>\n",
       "      <th>JOB_ACCEPTANCE_MA</th>\n",
       "      <th>JOB_ACCEPTANCE_VHA</th>\n",
       "      <th>JOB_ACCEPTANCE_VLA</th>\n",
       "      <th>SOC_ACCEPTANCE_HA</th>\n",
       "      <th>SOC_ACCEPTANCE_LA</th>\n",
       "      <th>SOC_ACCEPTANCE_MA</th>\n",
       "      <th>SOC_ACCEPTANCE_VHA</th>\n",
       "      <th>SOC_ACCEPTANCE_VLA</th>\n",
       "    </tr>\n",
       "  </thead>\n",
       "  <tbody>\n",
       "    <tr>\n",
       "      <th>363035</th>\n",
       "      <td>0</td>\n",
       "      <td>0</td>\n",
       "      <td>0</td>\n",
       "      <td>0</td>\n",
       "      <td>1</td>\n",
       "      <td>0</td>\n",
       "      <td>0</td>\n",
       "      <td>0</td>\n",
       "      <td>0</td>\n",
       "      <td>0</td>\n",
       "      <td>...</td>\n",
       "      <td>1</td>\n",
       "      <td>0</td>\n",
       "      <td>0</td>\n",
       "      <td>0</td>\n",
       "      <td>0</td>\n",
       "      <td>1</td>\n",
       "      <td>0</td>\n",
       "      <td>0</td>\n",
       "      <td>0</td>\n",
       "      <td>0</td>\n",
       "    </tr>\n",
       "    <tr>\n",
       "      <th>2794145</th>\n",
       "      <td>0</td>\n",
       "      <td>0</td>\n",
       "      <td>0</td>\n",
       "      <td>0</td>\n",
       "      <td>0</td>\n",
       "      <td>0</td>\n",
       "      <td>0</td>\n",
       "      <td>0</td>\n",
       "      <td>0</td>\n",
       "      <td>0</td>\n",
       "      <td>...</td>\n",
       "      <td>1</td>\n",
       "      <td>0</td>\n",
       "      <td>0</td>\n",
       "      <td>0</td>\n",
       "      <td>0</td>\n",
       "      <td>1</td>\n",
       "      <td>0</td>\n",
       "      <td>0</td>\n",
       "      <td>0</td>\n",
       "      <td>0</td>\n",
       "    </tr>\n",
       "    <tr>\n",
       "      <th>2298634</th>\n",
       "      <td>1</td>\n",
       "      <td>0</td>\n",
       "      <td>0</td>\n",
       "      <td>0</td>\n",
       "      <td>0</td>\n",
       "      <td>0</td>\n",
       "      <td>0</td>\n",
       "      <td>0</td>\n",
       "      <td>0</td>\n",
       "      <td>0</td>\n",
       "      <td>...</td>\n",
       "      <td>0</td>\n",
       "      <td>0</td>\n",
       "      <td>1</td>\n",
       "      <td>0</td>\n",
       "      <td>0</td>\n",
       "      <td>1</td>\n",
       "      <td>0</td>\n",
       "      <td>0</td>\n",
       "      <td>0</td>\n",
       "      <td>0</td>\n",
       "    </tr>\n",
       "    <tr>\n",
       "      <th>256431</th>\n",
       "      <td>0</td>\n",
       "      <td>0</td>\n",
       "      <td>0</td>\n",
       "      <td>0</td>\n",
       "      <td>1</td>\n",
       "      <td>0</td>\n",
       "      <td>0</td>\n",
       "      <td>0</td>\n",
       "      <td>1</td>\n",
       "      <td>0</td>\n",
       "      <td>...</td>\n",
       "      <td>1</td>\n",
       "      <td>0</td>\n",
       "      <td>0</td>\n",
       "      <td>0</td>\n",
       "      <td>0</td>\n",
       "      <td>1</td>\n",
       "      <td>0</td>\n",
       "      <td>0</td>\n",
       "      <td>0</td>\n",
       "      <td>0</td>\n",
       "    </tr>\n",
       "    <tr>\n",
       "      <th>2924320</th>\n",
       "      <td>0</td>\n",
       "      <td>0</td>\n",
       "      <td>0</td>\n",
       "      <td>0</td>\n",
       "      <td>0</td>\n",
       "      <td>0</td>\n",
       "      <td>0</td>\n",
       "      <td>0</td>\n",
       "      <td>0</td>\n",
       "      <td>0</td>\n",
       "      <td>...</td>\n",
       "      <td>0</td>\n",
       "      <td>0</td>\n",
       "      <td>0</td>\n",
       "      <td>1</td>\n",
       "      <td>0</td>\n",
       "      <td>1</td>\n",
       "      <td>0</td>\n",
       "      <td>0</td>\n",
       "      <td>0</td>\n",
       "      <td>0</td>\n",
       "    </tr>\n",
       "  </tbody>\n",
       "</table>\n",
       "<p>5 rows × 77 columns</p>\n",
       "</div>"
      ],
      "text/plain": [
       "         FILING_YEAR_2012  FILING_YEAR_2013  FILING_YEAR_2014  \\\n",
       "363035   0                 0                 0                  \n",
       "2794145  0                 0                 0                  \n",
       "2298634  1                 0                 0                  \n",
       "256431   0                 0                 0                  \n",
       "2924320  0                 0                 0                  \n",
       "\n",
       "         FILING_YEAR_2015  FILING_YEAR_2016  WORKSITE_ALASKA  \\\n",
       "363035   0                 1                 0                 \n",
       "2794145  0                 0                 0                 \n",
       "2298634  0                 0                 0                 \n",
       "256431   0                 1                 0                 \n",
       "2924320  0                 0                 0                 \n",
       "\n",
       "         WORKSITE_ARIZONA  WORKSITE_ARKANSAS  WORKSITE_CALIFORNIA  \\\n",
       "363035   0                 0                  0                     \n",
       "2794145  0                 0                  0                     \n",
       "2298634  0                 0                  0                     \n",
       "256431   0                 0                  1                     \n",
       "2924320  0                 0                  0                     \n",
       "\n",
       "         WORKSITE_COLORADO  ...  JOB_ACCEPTANCE_HA  JOB_ACCEPTANCE_LA  \\\n",
       "363035   0                  ...  1                  0                   \n",
       "2794145  0                  ...  1                  0                   \n",
       "2298634  0                  ...  0                  0                   \n",
       "256431   0                  ...  1                  0                   \n",
       "2924320  0                  ...  0                  0                   \n",
       "\n",
       "         JOB_ACCEPTANCE_MA  JOB_ACCEPTANCE_VHA  JOB_ACCEPTANCE_VLA  \\\n",
       "363035   0                  0                   0                    \n",
       "2794145  0                  0                   0                    \n",
       "2298634  1                  0                   0                    \n",
       "256431   0                  0                   0                    \n",
       "2924320  0                  1                   0                    \n",
       "\n",
       "         SOC_ACCEPTANCE_HA  SOC_ACCEPTANCE_LA  SOC_ACCEPTANCE_MA  \\\n",
       "363035   1                  0                  0                   \n",
       "2794145  1                  0                  0                   \n",
       "2298634  1                  0                  0                   \n",
       "256431   1                  0                  0                   \n",
       "2924320  1                  0                  0                   \n",
       "\n",
       "         SOC_ACCEPTANCE_VHA  SOC_ACCEPTANCE_VLA  \n",
       "363035   0                   0                   \n",
       "2794145  0                   0                   \n",
       "2298634  0                   0                   \n",
       "256431   0                   0                   \n",
       "2924320  0                   0                   \n",
       "\n",
       "[5 rows x 77 columns]"
      ]
     },
     "execution_count": 45,
     "metadata": {},
     "output_type": "execute_result"
    }
   ],
   "source": [
    "X_train.head()"
   ]
  },
  {
   "cell_type": "markdown",
   "metadata": {},
   "source": [
    "## Training classifiers¶"
   ]
  },
  {
   "cell_type": "markdown",
   "metadata": {},
   "source": [
    "### Decision Tree Model"
   ]
  },
  {
   "cell_type": "code",
   "execution_count": 46,
   "metadata": {},
   "outputs": [],
   "source": [
    "dtree = tree.DecisionTreeClassifier()\n",
    "dtree = dtree.fit(X_train, y_train) "
   ]
  },
  {
   "cell_type": "code",
   "execution_count": 47,
   "metadata": {},
   "outputs": [
    {
     "name": "stdout",
     "output_type": "stream",
     "text": [
      "[[14833  3922]\n",
      " [ 2229 28971]]\n"
     ]
    }
   ],
   "source": [
    "y_pred = dtree.predict(X_test)\n",
    "\n",
    "y_prob = dtree.predict_proba(X_test)\n",
    "\n",
    "# confusion matrix\n",
    "matrix = metrics.confusion_matrix(y_test,y_pred)\n",
    "\n",
    "print(metrics.confusion_matrix(y_test,y_pred))\n",
    "# sklearn.metrics.confusion_matrix\n",
    "# https://scikit-learn.org/stable/modules/generated/sklearn.metrics.confusion_matrix.html"
   ]
  },
  {
   "cell_type": "code",
   "execution_count": 68,
   "metadata": {},
   "outputs": [],
   "source": [
    "#prediction accuracy\n",
    "from sklearn.metrics import accuracy_score \n",
    "dtree_A = accuracy_score(y_test, y_pred)"
   ]
  },
  {
   "cell_type": "markdown",
   "metadata": {},
   "source": [
    "## Logistic Regression Model"
   ]
  },
  {
   "cell_type": "code",
   "execution_count": 49,
   "metadata": {},
   "outputs": [
    {
     "name": "stderr",
     "output_type": "stream",
     "text": [
      "/Users/yutian/anaconda3/lib/python3.7/site-packages/sklearn/linear_model/logistic.py:432: FutureWarning: Default solver will be changed to 'lbfgs' in 0.22. Specify a solver to silence this warning.\n",
      "  FutureWarning)\n"
     ]
    },
    {
     "data": {
      "text/plain": [
       "LogisticRegression(C=1.0, class_weight=None, dual=False, fit_intercept=True,\n",
       "                   intercept_scaling=1, l1_ratio=None, max_iter=100,\n",
       "                   multi_class='warn', n_jobs=None, penalty='l2',\n",
       "                   random_state=None, solver='warn', tol=0.0001, verbose=0,\n",
       "                   warm_start=False)"
      ]
     },
     "execution_count": 49,
     "metadata": {},
     "output_type": "execute_result"
    }
   ],
   "source": [
    "lr_clf = linear_model.LogisticRegression()\n",
    "lr_clf.fit(X_train, y_train)  "
   ]
  },
  {
   "cell_type": "code",
   "execution_count": 50,
   "metadata": {},
   "outputs": [
    {
     "name": "stdout",
     "output_type": "stream",
     "text": [
      "[[14544  4211]\n",
      " [ 1230 29970]]\n",
      "              precision    recall  f1-score   support\n",
      "\n",
      "           0       0.92      0.78      0.84     18755\n",
      "           1       0.88      0.96      0.92     31200\n",
      "\n",
      "    accuracy                           0.89     49955\n",
      "   macro avg       0.90      0.87      0.88     49955\n",
      "weighted avg       0.89      0.89      0.89     49955\n",
      "\n"
     ]
    }
   ],
   "source": [
    "y_pred_lr = lr_clf.predict(X_test)\n",
    "\n",
    "probs = lr_clf.predict_proba(X_test)\n",
    "\n",
    "print(metrics.confusion_matrix(y_test,y_pred_lr))\n",
    "print(metrics.classification_report(y_test, y_pred_lr))"
   ]
  },
  {
   "cell_type": "code",
   "execution_count": 96,
   "metadata": {},
   "outputs": [
    {
     "data": {
      "text/plain": [
       "Text(0.5, 1, 'Confusion Matrix')"
      ]
     },
     "execution_count": 96,
     "metadata": {},
     "output_type": "execute_result"
    },
    {
     "data": {
      "image/png": "[encoded data removed]",
      "text/plain": [
       "<Figure size 432x288 with 1 Axes>"
      ]
     },
     "metadata": {
      "needs_background": "light"
     },
     "output_type": "display_data"
    }
   ],
   "source": [
    "confusion = metrics.confusion_matrix(y_test,y_pred_lr)\n",
    "# confusion matrix\n",
    "from sklearn.metrics import confusion_matrix\n",
    "# creating heatmap\n",
    "import matplotlib.pyplot as plt\n",
    "import seaborn as sns\n",
    "%matplotlib inline \n",
    "sns.heatmap(confusion,annot=True,cbar=False) \n",
    "plt.ylabel('True Label')\n",
    "plt.xlabel('Predicted Label') \n",
    "plt.title('Confusion Matrix')"
   ]
  },
  {
   "cell_type": "code",
   "execution_count": 98,
   "metadata": {},
   "outputs": [
    {
     "data": {
      "text/plain": [
       "0.8910819737763988"
      ]
     },
     "execution_count": 98,
     "metadata": {},
     "output_type": "execute_result"
    }
   ],
   "source": [
    "#prediction accuracy\n",
    "from sklearn.metrics import accuracy_score \n",
    "lr_A = accuracy_score(y_test, y_pred_lr)\n",
    "lr_A"
   ]
  },
  {
   "cell_type": "markdown",
   "metadata": {},
   "source": [
    "## Random Forest Classifier"
   ]
  },
  {
   "cell_type": "code",
   "execution_count": 55,
   "metadata": {},
   "outputs": [
    {
     "data": {
      "text/plain": [
       "RandomForestClassifier(bootstrap=True, class_weight=None, criterion='gini',\n",
       "                       max_depth=None, max_features='auto', max_leaf_nodes=None,\n",
       "                       min_impurity_decrease=0.0, min_impurity_split=None,\n",
       "                       min_samples_leaf=1, min_samples_split=2,\n",
       "                       min_weight_fraction_leaf=0.0, n_estimators=75,\n",
       "                       n_jobs=None, oob_score=False, random_state=50, verbose=0,\n",
       "                       warm_start=False)"
      ]
     },
     "execution_count": 55,
     "metadata": {},
     "output_type": "execute_result"
    }
   ],
   "source": [
    "rf = RandomForestClassifier(n_estimators = 75, random_state = 50)\n",
    "# Train the model on training data\n",
    "rf.fit(X_train, y_train)"
   ]
  },
  {
   "cell_type": "code",
   "execution_count": 56,
   "metadata": {},
   "outputs": [
    {
     "name": "stdout",
     "output_type": "stream",
     "text": [
      "[[14722  4033]\n",
      " [ 1907 29293]]\n",
      "              precision    recall  f1-score   support\n",
      "\n",
      "           0       0.89      0.78      0.83     18755\n",
      "           1       0.88      0.94      0.91     31200\n",
      "\n",
      "    accuracy                           0.88     49955\n",
      "   macro avg       0.88      0.86      0.87     49955\n",
      "weighted avg       0.88      0.88      0.88     49955\n",
      "\n"
     ]
    }
   ],
   "source": [
    "y_pred_rf =  rf.predict(X_test)\n",
    "probs = rf.predict_proba(X_test)\n",
    "\n",
    "print(metrics.confusion_matrix(y_test,y_pred_rf))\n",
    "print(metrics.classification_report(y_test, y_pred_rf))"
   ]
  },
  {
   "cell_type": "code",
   "execution_count": 70,
   "metadata": {},
   "outputs": [],
   "source": [
    "#prediction accuracy\n",
    "from sklearn.metrics import accuracy_score \n",
    "rf_A = accuracy_score(y_test, y_pred_rf)"
   ]
  },
  {
   "cell_type": "markdown",
   "metadata": {},
   "source": [
    "## Artifical Neural Network"
   ]
  },
  {
   "cell_type": "code",
   "execution_count": 65,
   "metadata": {},
   "outputs": [
    {
     "data": {
      "text/plain": [
       "MLPClassifier(activation='relu', alpha=0.0001, batch_size='auto', beta_1=0.9,\n",
       "              beta_2=0.999, early_stopping=False, epsilon=1e-08,\n",
       "              hidden_layer_sizes=(20, 20, 20, 20, 20), learning_rate='constant',\n",
       "              learning_rate_init=0.001, max_iter=1000, momentum=0.9,\n",
       "              n_iter_no_change=10, nesterovs_momentum=True, power_t=0.5,\n",
       "              random_state=None, shuffle=True, solver='adam', tol=0.0001,\n",
       "              validation_fraction=0.1, verbose=False, warm_start=False)"
      ]
     },
     "execution_count": 65,
     "metadata": {},
     "output_type": "execute_result"
    }
   ],
   "source": [
    "mlp = MLPClassifier(hidden_layer_sizes=(20,20,20,20,20), max_iter=1000)\n",
    "mlp.fit(X_train, y_train)"
   ]
  },
  {
   "cell_type": "code",
   "execution_count": 66,
   "metadata": {},
   "outputs": [
    {
     "name": "stdout",
     "output_type": "stream",
     "text": [
      "[[14831  3924]\n",
      " [ 1571 29629]]\n",
      "              precision    recall  f1-score   support\n",
      "\n",
      "           0       0.90      0.79      0.84     18755\n",
      "           1       0.88      0.95      0.92     31200\n",
      "\n",
      "    accuracy                           0.89     49955\n",
      "   macro avg       0.89      0.87      0.88     49955\n",
      "weighted avg       0.89      0.89      0.89     49955\n",
      "\n"
     ]
    }
   ],
   "source": [
    "y_pred_mlp = mlp.predict(X_test)\n",
    "confusion = metrics.confusion_matrix(y_test, y_pred_mlp)\n",
    "print(confusion)\n",
    "print(metrics.classification_report(y_test, y_pred_mlp))"
   ]
  },
  {
   "cell_type": "code",
   "execution_count": 94,
   "metadata": {},
   "outputs": [
    {
     "data": {
      "text/plain": [
       "Text(0.5, 1, 'Confusion Matrix')"
      ]
     },
     "execution_count": 94,
     "metadata": {},
     "output_type": "execute_result"
    },
    {
     "data": {
      "image/png": "[encoded data removed]",
      "text/plain": [
       "<Figure size 432x288 with 1 Axes>"
      ]
     },
     "metadata": {
      "needs_background": "light"
     },
     "output_type": "display_data"
    }
   ],
   "source": [
    "# confusion matrix\n",
    "from sklearn.metrics import confusion_matrix\n",
    "# creating heatmap\n",
    "import matplotlib.pyplot as plt\n",
    "import seaborn as sns\n",
    "%matplotlib inline \n",
    "sns.heatmap(confusion,annot=True,cbar=False) \n",
    "plt.ylabel('True Label')\n",
    "plt.xlabel('Predicted Label') \n",
    "plt.title('Confusion Matrix')"
   ]
  },
  {
   "cell_type": "code",
   "execution_count": 71,
   "metadata": {},
   "outputs": [],
   "source": [
    "#prediction accuracy\n",
    "from sklearn.metrics import accuracy_score \n",
    "mlp_A = accuracy_score(y_test, y_pred_mlp)"
   ]
  },
  {
   "cell_type": "markdown",
   "metadata": {},
   "source": [
    "## Gaussian Naive Bayes Classifier"
   ]
  },
  {
   "cell_type": "code",
   "execution_count": 62,
   "metadata": {},
   "outputs": [
    {
     "data": {
      "text/plain": [
       "GaussianNB(priors=None, var_smoothing=1e-09)"
      ]
     },
     "execution_count": 62,
     "metadata": {},
     "output_type": "execute_result"
    }
   ],
   "source": [
    "gaus_clf = GaussianNB()\n",
    "gaus_clf.fit(X_train, y_train)"
   ]
  },
  {
   "cell_type": "code",
   "execution_count": 63,
   "metadata": {},
   "outputs": [
    {
     "name": "stdout",
     "output_type": "stream",
     "text": [
      "[[ 7777 10978]\n",
      " [ 2608 28592]]\n",
      "              precision    recall  f1-score   support\n",
      "\n",
      "           0       0.75      0.41      0.53     18755\n",
      "           1       0.72      0.92      0.81     31200\n",
      "\n",
      "    accuracy                           0.73     49955\n",
      "   macro avg       0.74      0.67      0.67     49955\n",
      "weighted avg       0.73      0.73      0.71     49955\n",
      "\n"
     ]
    }
   ],
   "source": [
    "y_pred_glb = gaus_clf.predict(X_test)\n",
    "confusion = metrics.confusion_matrix(y_test, y_pred_glb)\n",
    "print(confusion)\n",
    "print(metrics.classification_report(y_test, y_pred_glb))"
   ]
  },
  {
   "cell_type": "code",
   "execution_count": 72,
   "metadata": {},
   "outputs": [],
   "source": [
    "#prediction accuracy\n",
    "from sklearn.metrics import accuracy_score \n",
    "gaus_A = accuracy_score(y_test, y_pred_glb)"
   ]
  },
  {
   "cell_type": "code",
   "execution_count": 88,
   "metadata": {},
   "outputs": [
    {
     "data": {
      "text/html": [
       "<div>\n",
       "<style scoped>\n",
       "    .dataframe tbody tr th:only-of-type {\n",
       "        vertical-align: middle;\n",
       "    }\n",
       "\n",
       "    .dataframe tbody tr th {\n",
       "        vertical-align: top;\n",
       "    }\n",
       "\n",
       "    .dataframe thead th {\n",
       "        text-align: right;\n",
       "    }\n",
       "</style>\n",
       "<table border=\"1\" class=\"dataframe\">\n",
       "  <thead>\n",
       "    <tr style=\"text-align: right;\">\n",
       "      <th></th>\n",
       "      <th>Algorithm</th>\n",
       "      <th>Accuracy</th>\n",
       "    </tr>\n",
       "  </thead>\n",
       "  <tbody>\n",
       "    <tr>\n",
       "      <th>0</th>\n",
       "      <td>Logistic</td>\n",
       "      <td>0.891082</td>\n",
       "    </tr>\n",
       "    <tr>\n",
       "      <th>1</th>\n",
       "      <td>Random Forest</td>\n",
       "      <td>0.881093</td>\n",
       "    </tr>\n",
       "    <tr>\n",
       "      <th>2</th>\n",
       "      <td>Support Vector</td>\n",
       "      <td>0.873000</td>\n",
       "    </tr>\n",
       "    <tr>\n",
       "      <th>3</th>\n",
       "      <td>Naive Bayes</td>\n",
       "      <td>0.728035</td>\n",
       "    </tr>\n",
       "  </tbody>\n",
       "</table>\n",
       "</div>"
      ],
      "text/plain": [
       "        Algorithm  Accuracy\n",
       "0  Logistic        0.891082\n",
       "1  Random Forest   0.881093\n",
       "2  Support Vector  0.873000\n",
       "3  Naive Bayes     0.728035"
      ]
     },
     "execution_count": 88,
     "metadata": {},
     "output_type": "execute_result"
    }
   ],
   "source": [
    "# Import pandas library \n",
    "import pandas as pd \n",
    "  \n",
    "# initialize list of lists \n",
    "data = [['Logistic', lr_A], ['Random Forest', rf_A],['Support Vector', 0.873], ['Naive Bayes', gaus_A]] \n",
    "  \n",
    "# Create the pandas DataFrame \n",
    "df = pd.DataFrame(data, columns = ['Algorithm', 'Accuracy']) \n",
    "  \n",
    "# print dataframe. \n",
    "df "
   ]
  },
  {
   "cell_type": "code",
   "execution_count": 89,
   "metadata": {},
   "outputs": [
    {
     "data": {
      "image/png": "[encoded data removed]",
      "text/plain": [
       "<Figure size 432x288 with 1 Axes>"
      ]
     },
     "metadata": {
      "needs_background": "light"
     },
     "output_type": "display_data"
    }
   ],
   "source": [
    "ax = df.plot.bar(x='Algorithm', y='Accuracy', rot=0)"
   ]
  },
  {
   "cell_type": "code",
   "execution_count": null,
   "metadata": {},
   "outputs": [],
   "source": []
  }
 ],
 "metadata": {
  "kernelspec": {
   "display_name": "Python 3",
   "language": "python",
   "name": "python3"
  },
  "language_info": {
   "codemirror_mode": {
    "name": "ipython",
    "version": 3
   },
   "file_extension": ".py",
   "mimetype": "text/x-python",
   "name": "python",
   "nbconvert_exporter": "python",
   "pygments_lexer": "ipython3",
   "version": "3.7.5"
  }
 },
 "nbformat": 4,
 "nbformat_minor": 2
}
